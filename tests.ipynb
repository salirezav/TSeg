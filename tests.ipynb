{
 "cells": [
  {
   "cell_type": "code",
   "execution_count": 1,
   "metadata": {},
   "outputs": [],
   "source": [
    "%load_ext autoreload"
   ]
  },
  {
   "cell_type": "code",
   "execution_count": 2,
   "metadata": {},
   "outputs": [],
   "source": [
    "%autoreload 2"
   ]
  },
  {
   "cell_type": "code",
   "execution_count": 3,
   "metadata": {},
   "outputs": [
    {
     "name": "stderr",
     "output_type": "stream",
     "text": [
      "WARNING: Unable to enumerate family ' \"JetBrainsMonoExtraBold Nerd Font\" '\n"
     ]
    }
   ],
   "source": [
    "from napari import Viewer\n",
    "viewer = Viewer()"
   ]
  },
  {
   "cell_type": "code",
   "execution_count": 4,
   "metadata": {},
   "outputs": [
    {
     "name": "stdout",
     "output_type": "stream",
     "text": [
      "C:\\Users\\Alireza Vaezi\\tseg_output\n"
     ]
    }
   ],
   "source": [
    "from tseg.widgets import io"
   ]
  },
  {
   "cell_type": "code",
   "execution_count": 10,
   "metadata": {},
   "outputs": [
    {
     "data": {
      "text/plain": [
       "(<napari._qt.widgets.qt_viewer_dock_widget.QtViewerDockWidget at 0x26352430ca0>,\n",
       " <tseg.widgets.io.InputOutputWidget at 0x26352e2f6d0>)"
      ]
     },
     "execution_count": 10,
     "metadata": {},
     "output_type": "execute_result"
    },
    {
     "name": "stdout",
     "output_type": "stream",
     "text": [
      "subregion: 29 c_val 7\n",
      "subregion: 13 c_val 7\n",
      "subregion: 6 c_val 7\n",
      "subregion: 6 c_val 2\n",
      "subregion: 6 c_val 38\n",
      "subregion: 2 c_val 38\n",
      "subregion: 28 c_val 38\n",
      "subregion: 28 c_val 38\n",
      "subregion: 28 c_val 38\n",
      "subregion: 28 c_val 38\n",
      "subregion: 28 c_val 38\n"
     ]
    }
   ],
   "source": [
    "viewer.window.add_plugin_dock_widget(\"tseg\", \"Input/Output\")"
   ]
  },
  {
   "cell_type": "code",
   "execution_count": 11,
   "metadata": {},
   "outputs": [
    {
     "name": "stdout",
     "output_type": "stream",
     "text": [
      "C:\\Users\\Alireza Vaezi\\tseg_output\n"
     ]
    },
    {
     "data": {
      "text/plain": [
       "(<napari._qt.widgets.qt_viewer_dock_widget.QtViewerDockWidget at 0x26345601fc0>,\n",
       " <tseg._widget.PreProcessingWidget at 0x263845cd360>)"
      ]
     },
     "execution_count": 11,
     "metadata": {},
     "output_type": "execute_result"
    },
    {
     "name": "stdout",
     "output_type": "stream",
     "text": [
      "subregion: 28 c_val 38\n"
     ]
    },
    {
     "name": "stderr",
     "output_type": "stream",
     "text": [
      "C:\\Users\\Alireza Vaezi\\Desktop\\The Big Projects\\TOXO PARENT\\TSEG\\tseg\\src\\tseg\\prep.py:16: RuntimeWarning: divide by zero encountered in log\n",
      "  log_image = c * (np.log(image + 1))\n",
      "C:\\Users\\Alireza Vaezi\\Desktop\\The Big Projects\\TOXO PARENT\\TSEG\\tseg\\src\\tseg\\prep.py:20: RuntimeWarning: invalid value encountered in cast\n",
      "  log_image = np.array(log_image, dtype=np.uint8)\n",
      "C:\\Users\\Alireza Vaezi\\Desktop\\The Big Projects\\TOXO PARENT\\TSEG\\tseg\\src\\tseg\\prep.py:16: RuntimeWarning: divide by zero encountered in log\n",
      "  log_image = c * (np.log(image + 1))\n",
      "C:\\Users\\Alireza Vaezi\\Desktop\\The Big Projects\\TOXO PARENT\\TSEG\\tseg\\src\\tseg\\prep.py:20: RuntimeWarning: invalid value encountered in cast\n",
      "  log_image = np.array(log_image, dtype=np.uint8)\n"
     ]
    },
    {
     "name": "stdout",
     "output_type": "stream",
     "text": [
      "subregion: 28 c_val 71\n",
      "subregion: 28 c_val 71\n",
      "subregion: 18 c_val 71\n"
     ]
    }
   ],
   "source": [
    "viewer.window.add_plugin_dock_widget(\"tseg\", \"Pre-Processing\")"
   ]
  },
  {
   "cell_type": "code",
   "execution_count": 9,
   "metadata": {},
   "outputs": [
    {
     "name": "stdout",
     "output_type": "stream",
     "text": [
      "C:\\Users\\Alireza Vaezi\\tseg_output\n"
     ]
    },
    {
     "data": {
      "text/plain": [
       "(<napari._qt.widgets.qt_viewer_dock_widget.QtViewerDockWidget at 0x26352e2cb80>,\n",
       " <tseg._widget.SegWidget at 0x263852dcaf0>)"
      ]
     },
     "execution_count": 9,
     "metadata": {},
     "output_type": "execute_result"
    }
   ],
   "source": [
    "viewer.window.add_plugin_dock_widget(\"tseg\", \"Segmentation\")"
   ]
  }
 ],
 "metadata": {
  "kernelspec": {
   "display_name": "tseg",
   "language": "python",
   "name": "python3"
  },
  "language_info": {
   "codemirror_mode": {
    "name": "ipython",
    "version": 3
   },
   "file_extension": ".py",
   "mimetype": "text/x-python",
   "name": "python",
   "nbconvert_exporter": "python",
   "pygments_lexer": "ipython3",
   "version": "3.10.14"
  },
  "orig_nbformat": 4
 },
 "nbformat": 4,
 "nbformat_minor": 2
}
