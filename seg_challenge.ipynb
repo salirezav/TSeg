{
 "cells": [
  {
   "cell_type": "code",
   "execution_count": 81,
   "metadata": {},
   "outputs": [],
   "source": [
    "import os\n",
    "import glob\n",
    "import cv2\n",
    "import numpy as np\n",
    "import matplotlib.pyplot as plt\n",
    "from pathlib import Path\n",
    "from sklearn.metrics import jaccard_score\n",
    "import pandas as pd\n",
    "import re\n",
    "from tqdm import tqdm\n",
    "\n",
    "# PlantSeg imports\n",
    "import plantseg\n",
    "from plantseg.core.zoo import ModelZoo\n",
    "from plantseg.tasks import import_image_task, unet_prediction_task\n",
    "\n",
    "# CellPose imports\n",
    "from cellpose import models, io\n",
    "\n",
    "import napari\n",
    "\n",
    "\n",
    "from pathlib import Path\n",
    "from plantseg.tasks import import_image_task, unet_prediction_task\n",
    "from plantseg.core import PlantSegImage, ImageProperties, image\n",
    "import cv2\n",
    "from plantseg.core.zoo import ModelZoo\n",
    "\n",
    "mz = ModelZoo(plantseg.PATH_MODEL_ZOO, plantseg.PATH_MODEL_ZOO_CUSTOM)\n",
    "plantseg_model_names = mz.get_model_names()\n",
    "\n",
    "from cellpose import models, utils, io\n",
    "import matplotlib.pyplot as plt\n",
    "import cellpose.models\n",
    "\n",
    "cp_models = [\"cyto3\", \"nuclei\", \"cyto2_cp3\", \"tissuenet_cp3\", \"livecell_cp3\", \"yeast_PhC_cp3\", \"yeast_BF_cp3\", \"bact_phase_cp3\", \"bact_fluor_cp3\", \"deepbacs_cp3\", \"cyto2\", \"cyto\", \"CPx\", \"transformer_cp3\", \"neurips_cellpose_default\", \"neurips_cellpose_transformer\", \"neurips_grayscale_cyto2\", \"CP\", \"CPx\", \"TN1\", \"TN2\", \"TN3\", \"LC1\", \"LC2\", \"LC3\", \"LC4\"]\n",
    "\n",
    "ps_models = [\n",
    "    \"generic_confocal_3D_unet\",\n",
    "    \"generic_light_sheet_3D_unet\",\n",
    "    \"confocal_3D_unet_ovules_ds1x\",\n",
    "    \"confocal_3D_unet_ovules_ds2x\",\n",
    "    \"confocal_3D_unet_ovules_ds3x\",\n",
    "    \"confocal_2D_unet_ovules_ds2x\",\n",
    "    \"lightsheet_3D_unet_root_ds1x\",\n",
    "    \"lightsheet_3D_unet_root_ds2x\",\n",
    "    \"lightsheet_3D_unet_root_ds3x\",\n",
    "    \"lightsheet_2D_unet_root_ds1x\",\n",
    "    \"lightsheet_3D_unet_root_nuclei_ds1x\",\n",
    "    \"lightsheet_2D_unet_root_nuclei_ds1x\",\n",
    "    \"confocal_2D_unet_sa_meristem_cells\",\n",
    "    \"confocal_3D_unet_sa_meristem_cells\",\n",
    "    \"lightsheet_3D_unet_mouse_embryo_cells\",\n",
    "    \"confocal_3D_unet_mouse_embryo_nuclei\",\n",
    "    \"PlantSeg_3Dnuc_platinum\",\n",
    "]\n",
    "\n",
    "import warnings\n",
    "\n",
    "# Suppress PyTorch warnings\n",
    "warnings.filterwarnings(\"ignore\", message=\"You are using `torch.load`\", category=FutureWarning)"
   ]
  },
  {
   "cell_type": "code",
   "execution_count": 82,
   "metadata": {},
   "outputs": [],
   "source": [
    "# viewer = napari.Viewer()"
   ]
  },
  {
   "cell_type": "code",
   "execution_count": null,
   "metadata": {},
   "outputs": [],
   "source": [
    "# Define the function to construct the dataset DataFrame\n",
    "def construct_dataset_dataframe(base_dir):\n",
    "    columns = [\"dataset_name\", \"sequence_name\", \"image_path\", \"mask\", \"gold_mask\"] + cp_models + ps_models\n",
    "\n",
    "    data = []\n",
    "\n",
    "    for dataset_name in os.listdir(base_dir):\n",
    "        dataset_path = os.path.join(base_dir, dataset_name)\n",
    "        if not os.path.isdir(dataset_path):\n",
    "            continue\n",
    "\n",
    "        for sequence_name in os.listdir(dataset_path):\n",
    "            sequence_path = os.path.join(dataset_path, sequence_name)\n",
    "            if not os.path.isdir(sequence_path) or \"_\" in sequence_name:\n",
    "                continue\n",
    "\n",
    "            # Paths for masks and gold masks\n",
    "            err_seg_path = os.path.join(dataset_path, f\"{sequence_name}_ERR_SEG\")\n",
    "            gt_seg_path = os.path.join(dataset_path, f\"{sequence_name}_GT\", \"SEG\")\n",
    "\n",
    "            for image_file in os.listdir(sequence_path):\n",
    "                if image_file.endswith(\".tif\"):\n",
    "                    image_path = os.path.join(sequence_path, image_file)\n",
    "\n",
    "                    # Corresponding mask and gold mask paths\n",
    "                    mask_path = os.path.join(err_seg_path, f\"mask{image_file[1:]}\")\n",
    "                    mask_path = mask_path if os.path.exists(mask_path) else None\n",
    "\n",
    "                    gold_mask_path = os.path.join(gt_seg_path, f\"man_seg{image_file[1:]}\")\n",
    "                    gold_mask_path = gold_mask_path if os.path.exists(gold_mask_path) else None\n",
    "\n",
    "                    # Append a row with default None values for models\n",
    "                    data.append([dataset_name, sequence_name, image_path, mask_path, gold_mask_path] + [None] * (len(columns) - 5))\n",
    "\n",
    "    return pd.DataFrame(data, columns=columns)\n",
    "\n",
    "\n",
    "# Define the base directory (update this to your actual dataset path)\n",
    "base_dir = \"./datasets\"\n",
    "\n",
    "# Create the DataFrame\n",
    "dataset_df = construct_dataset_dataframe(base_dir)\n",
    "\n",
    "# Save or display the DataFrame\n",
    "print(dataset_df.head())\n",
    "# Optionally save to a CSV file\n",
    "dataset_df.to_csv(\"dataset_summary.csv\", index=False)"
   ]
  },
  {
   "cell_type": "code",
   "execution_count": null,
   "metadata": {},
   "outputs": [],
   "source": [
    "dataset_df.head(3)"
   ]
  },
  {
   "cell_type": "code",
   "execution_count": 85,
   "metadata": {},
   "outputs": [],
   "source": [
    "# Helper function for loading images\n",
    "def load_image(file_path):\n",
    "    return cv2.imread(file_path, cv2.IMREAD_UNCHANGED)\n",
    "\n",
    "\n",
    "# # Function to perform segmentation using PlantSeg\n",
    "# def segment_with_plantseg(image_path, model_name=\"lightsheet_2D_unet_root_ds1x\", patch=(1, 64, 64), device=\"cuda\"):\n",
    "#     plantseg_image = import_image_task(input_path=Path(image_path), semantic_type=\"raw\", stack_layout=\"YX\")\n",
    "#     predicted_images = unet_prediction_task(image=plantseg_image, model_name=model_name, patch=patch, device=device)\n",
    "#     # Return the first predicted image\n",
    "#     return predicted_images[0].get_data()\n",
    "\n",
    "\n",
    "# # Function to perform segmentation using CellPose\n",
    "# def segment_with_cellpose(image_path, model_type=\"cyto2\", flow_threshold=0.4, cellprob_threshold=0):\n",
    "#     image = io.imread(image_path)\n",
    "#     model = models.Cellpose(gpu=True, model_type=model_type)\n",
    "#     masks, flows, styles, diams = model.eval(image, diameter=None, channels=[0, 0], flow_threshold=flow_threshold, cellprob_threshold=cellprob_threshold)\n",
    "#     return masks\n",
    "\n",
    "\n",
    "# Function for calculating IoU with ground truth\n",
    "def calculate_iou(pred, gt):\n",
    "    pred_flat = pred.flatten()\n",
    "    gt_flat = gt.flatten()\n",
    "    return jaccard_score(gt_flat, pred_flat, average=\"binary\")\n",
    "\n",
    "\n",
    "def get_images_for_masks(gt_gold_paths, image_paths):\n",
    "    subset_paths = []\n",
    "    for p in gt_gold_paths:\n",
    "        first_gt_gold_file = os.path.basename(p)\n",
    "        # Extract digits from the filename\n",
    "        digits = int(re.findall(r\"\\d+\", first_gt_gold_file)[0])\n",
    "        subset_paths.append(image_paths[digits])\n",
    "    return subset_paths\n",
    "\n",
    "\n",
    "# def segment(image_path, model_name):\n",
    "#     if model_name in cp_models:\n",
    "#         return segment_with_cellpose(image_path, model_type=model_name)\n",
    "#     elif model_name in ps_models:\n",
    "#         return segment_with_plantseg(image_path, model_name=model_name)\n",
    "#     else:\n",
    "#         raise ValueError(f\"Unknown model name: {model_name}\")\n",
    "\n",
    "\n",
    "# def seg_with_CellPose(image_path, model_type=\"cyto2\", diameter=None):\n",
    "#     image = io.imread(image_path)\n",
    "#     model = models.CellposeModel(gpu=True, model_type=model_type)\n",
    "#     masks, flows, styles = model.eval(image, diameter=diameter, channels=[0, 0], flow_threshold=0.4, cellprob_threshold=0)\n",
    "#     return masks\n",
    "\n",
    "\n",
    "# def seg_with_PlantSeg(image_path, model_name=\"lightsheet_2D_unet_root_ds1x\", patch=(1, 64, 64), device=\"cuda\"):\n",
    "#     plantseg_image = import_image_task(input_path=Path(image_path), semantic_type=\"raw\", stack_layout=\"YX\")\n",
    "#     predicted_images = unet_prediction_task(image=plantseg_image, model_name=model_name, patch=patch, device=device)\n",
    "#     return predicted_images[0].get_data()\n",
    "\n",
    "\n",
    "def ins_to_sem(mask):\n",
    "    # Convert instance segmentation mask to semantic mask\n",
    "    mask = mask.astype(np.uint8)\n",
    "    mask = mask * 255\n",
    "    mask = cv2.cvtColor(mask, cv2.COLOR_GRAY2BGR)\n",
    "    mask = cv2.cvtColor(mask, cv2.COLOR_BGR2GRAY)\n",
    "    return mask\n",
    "\n",
    "\n",
    "def calc_jaccard_score(pred, gt):\n",
    "    pred_flat = pred.flatten()\n",
    "    gt_flat = gt.flatten()\n",
    "    return jaccard_score(gt_flat, pred_flat, average=\"micro\")\n",
    "\n",
    "\n",
    "def calc_jaccard_score_per_object(pred, gt):\n",
    "    # Unique labels for reference objects (ground truth) and predicted objects\n",
    "    gt_labels = np.unique(gt)\n",
    "    pred_labels = np.unique(pred)\n",
    "\n",
    "    # Remove background label (assumed to be 0)\n",
    "    gt_labels = gt_labels[gt_labels > 0]\n",
    "    pred_labels = pred_labels[pred_labels > 0]\n",
    "\n",
    "    jaccard_scores = []\n",
    "\n",
    "    for gt_label in gt_labels:\n",
    "        # Extract pixels for the current reference object\n",
    "        gt_object = gt == gt_label\n",
    "\n",
    "        # Find the matching predicted object with maximum overlap\n",
    "        best_iou = 0\n",
    "        for pred_label in pred_labels:\n",
    "            pred_object = pred == pred_label\n",
    "            intersection = np.logical_and(gt_object, pred_object).sum()\n",
    "            union = np.logical_or(gt_object, pred_object).sum()\n",
    "\n",
    "            if union > 0:\n",
    "                iou = intersection / union\n",
    "                best_iou = max(best_iou, iou)\n",
    "\n",
    "        # Append the best IoU for this ground truth object\n",
    "        jaccard_scores.append(best_iou)\n",
    "\n",
    "    # Mean IoU across all ground truth objects\n",
    "    return np.mean(jaccard_scores) if jaccard_scores else 0"
   ]
  },
  {
   "cell_type": "code",
   "execution_count": 86,
   "metadata": {},
   "outputs": [],
   "source": [
    "# for index, row in dataset_df.iterrows():\n",
    "\n",
    "#     for model in cp_models + ps_models:\n",
    "#         image_path = row[\"image_path\"][0]  # Assuming you want to use the first image in the list\n",
    "#         gt_path = row[\"gt_path\"][0]  # Assuming you want to use the first ground truth in the list\n",
    "#         gt_gold_path = row[\"gt_gold_path\"][0]  # Assuming you want to use the first ground truth gold in the list\n",
    "\n",
    "#         # Perform segmentation\n",
    "#         segmented_image = segment(image_path, model_name=model)\n",
    "\n",
    "#         # Convert instance segmentation to semantic segmentation\n",
    "#         semantic_mask = ins_to_sem(segmented_image)\n",
    "\n",
    "#         # Load ground truth\n",
    "#         gt_image = load_image(gt_gold_path)\n",
    "#         gt_semantic = ins_to_sem(gt_image)\n",
    "\n",
    "#         # Calculate IoU score\n",
    "#         iou_score = calc_jaccard_score_per_object(semantic_mask, gt_semantic)\n",
    "#         print(f\"Model: {model}, IoU Score: {iou_score}\")"
   ]
  },
  {
   "cell_type": "code",
   "execution_count": 87,
   "metadata": {},
   "outputs": [],
   "source": [
    "# Function to perform segmentation\n",
    "def segment(image_path, model_name):\n",
    "    twoD_ps_models = [model for model in ps_models if \"2D\" in model]\n",
    "\n",
    "    if model_name in cp_models:\n",
    "        model = models.CellposeModel(gpu=True, model_type=model_name)\n",
    "        image = io.imread(image_path)\n",
    "        masks, _, _ = model.eval(image, diameter=None, channels=[0, 0], flow_threshold=0.4, cellprob_threshold=0)\n",
    "        return masks\n",
    "    elif model_name in twoD_ps_models:\n",
    "        plantseg_image = import_image_task(input_path=Path(image_path), semantic_type=\"raw\", stack_layout=\"YX\")\n",
    "        predicted_images = unet_prediction_task(image=plantseg_image, model_name=model_name, model_id=None, patch=(1, 64, 64), device=\"cuda\")\n",
    "        return predicted_images[0].get_data()\n",
    "    else:\n",
    "        raise ValueError(f\"Unknown model name: {model_name}\")\n",
    "\n",
    "\n",
    "# Function to calculate Jaccard score\n",
    "def calculate_jaccard_score(predicted_mask, ground_truth_mask):\n",
    "    # Ensure both masks are the same data type\n",
    "    pred_flat = predicted_mask.flatten().astype(np.int32)\n",
    "    gt_flat = ground_truth_mask.flatten().astype(np.int32)\n",
    "    return jaccard_score(gt_flat, pred_flat, average=\"micro\")\n",
    "\n",
    "\n",
    "# Main processing loop\n",
    "def process_dataset(df, models):\n",
    "    for idx, row in tqdm(df.iterrows(), total=len(df), desc=\"Processing dataset\", position=0):\n",
    "        try:\n",
    "            image_path = row[\"image_path\"]\n",
    "            mask_path = row[\"mask\"] if pd.notna(row[\"mask\"]) else row[\"gold_mask\"]\n",
    "            \n",
    "            assert image_path is not None\n",
    "            assert mask_path is not None\n",
    "            \n",
    "            if not mask_path or not os.path.exists(mask_path):\n",
    "                continue\n",
    "\n",
    "            ground_truth_mask = cv2.imread(mask_path, cv2.IMREAD_UNCHANGED)\n",
    "\n",
    "            for model_name in tqdm(models, desc=f\"Row {idx}\", leave=False, position=1):\n",
    "                if pd.notna(row.get(model_name)):\n",
    "                    continue  # Skip if Jaccard is already calculated\n",
    "                try:\n",
    "                    predicted_mask = segment(image_path, model_name)\n",
    "                    iou_score = calculate_jaccard_score(predicted_mask, ground_truth_mask)\n",
    "                    df.at[idx, model_name] = iou_score\n",
    "                except Exception as e:\n",
    "                    print(f\"Error processing model {model_name} for image {image_path}: {e}\")\n",
    "        except Exception as e:\n",
    "            # print(f\"Error processing row {idx} for model {model_name}: {e}\")\n",
    "            print(image_path)\n",
    "            print(mask_path)"
   ]
  },
  {
   "cell_type": "code",
   "execution_count": 29,
   "metadata": {},
   "outputs": [],
   "source": [
    "dataset_df = pd.read_csv(\"dataset_summary.csv\")"
   ]
  },
  {
   "cell_type": "code",
   "execution_count": null,
   "metadata": {},
   "outputs": [],
   "source": [
    "filter_df = dataset_df.dropna(subset=[\"mask\", \"gold_mask\"], how=\"all\")\n",
    "sampled_df = filter_df.groupby([\"dataset_name\", \"sequence_name\"], group_keys=False).apply(lambda x: x.sample(n=min(5, len(x)), random_state=42)).reset_index(drop=True)"
   ]
  },
  {
   "cell_type": "code",
   "execution_count": null,
   "metadata": {},
   "outputs": [],
   "source": [
    "the_models = [f for f in ps_models if \"2D\" in f]\n",
    "the_models"
   ]
  },
  {
   "cell_type": "code",
   "execution_count": 89,
   "metadata": {},
   "outputs": [
    {
     "name": "stderr",
     "output_type": "stream",
     "text": [
      "\n",
      "100%|██████████| 345/345 [00:01<00:00, 247.04it/s]\n"
     ]
    },
    {
     "name": "stdout",
     "output_type": "stream",
     "text": [
      "INFO: P [MainThread] 2025-01-28 01:40:46,062 plantseg.functionals.prediction.prediction - Zoo prediction: Running model from PlantSeg official zoo.\n",
      "INFO: P [MainThread] 2025-01-28 01:40:46,089 plantseg.functionals.prediction.prediction - Computing theoretical minimum halo from model.\n",
      "INFO: P [MainThread] 2025-01-28 01:40:46,090 plantseg.functionals.prediction.prediction - For raw in shape (700, 1100): set patch shape (1, 64, 64), set halo shape (0, 44, 44)\n",
      "INFO: P [MainThread] 2025-01-28 01:40:46,098 plantseg.functionals.prediction.utils.array_predictor - Using batch size of 1 for prediction\n"
     ]
    },
    {
     "name": "stderr",
     "output_type": "stream",
     "text": [
      "/space/alireza/tseg/.conda/lib/python3.11/site-packages/plantseg/io/tiff.py:114: UserWarning: No metadata found.\n",
      "  warnings.warn(\"No metadata found.\")\n",
      "\n",
      "\u001b[A\n",
      "\u001b[A\n",
      "\u001b[A\n",
      "\u001b[A\n",
      "\u001b[A\n",
      "\u001b[A\n",
      "\u001b[A\n",
      "\u001b[A\n",
      "100%|██████████| 345/345 [00:00<00:00, 404.17it/s]\n"
     ]
    },
    {
     "name": "stdout",
     "output_type": "stream",
     "text": [
      "INFO: P [MainThread] 2025-01-28 01:40:47,020 plantseg.functionals.prediction.prediction - Zoo prediction: Running model from PlantSeg official zoo.\n",
      "INFO: P [MainThread] 2025-01-28 01:40:47,053 plantseg.functionals.prediction.prediction - Computing theoretical minimum halo from model.\n",
      "INFO: P [MainThread] 2025-01-28 01:40:47,054 plantseg.functionals.prediction.prediction - For raw in shape (700, 1100): set patch shape (1, 64, 64), set halo shape (0, 44, 44)\n",
      "INFO: P [MainThread] 2025-01-28 01:40:47,061 plantseg.functionals.prediction.utils.array_predictor - Using batch size of 1 for prediction\n"
     ]
    },
    {
     "name": "stderr",
     "output_type": "stream",
     "text": [
      "/space/alireza/tseg/.conda/lib/python3.11/site-packages/plantseg/io/tiff.py:114: UserWarning: No metadata found.\n",
      "  warnings.warn(\"No metadata found.\")\n",
      "\n",
      "\u001b[A\n",
      "\u001b[A\n",
      "\u001b[A\n",
      "\u001b[A\n",
      "\u001b[A\n",
      "\u001b[A\n",
      "\u001b[A\n",
      "\u001b[A\n",
      "100%|██████████| 345/345 [00:00<00:00, 404.45it/s]\n",
      "Processing dataset:  73%|███████▎  | 73/100 [06:04<02:03,  4.56s/it]"
     ]
    },
    {
     "name": "stdout",
     "output_type": "stream",
     "text": [
      "INFO: P [MainThread] 2025-01-28 01:40:47,984 plantseg.functionals.prediction.prediction - Zoo prediction: Running model from PlantSeg official zoo.\n",
      "INFO: P [MainThread] 2025-01-28 01:40:48,040 plantseg.functionals.prediction.prediction - Computing theoretical minimum halo from model.\n",
      "INFO: P [MainThread] 2025-01-28 01:40:48,040 plantseg.functionals.prediction.prediction - For raw in shape (700, 1100): set patch shape (1, 64, 64), set halo shape (0, 44, 44)\n",
      "INFO: P [MainThread] 2025-01-28 01:40:48,054 plantseg.functionals.prediction.utils.array_predictor - Using batch size of 1 for prediction\n"
     ]
    },
    {
     "name": "stderr",
     "output_type": "stream",
     "text": [
      "/space/alireza/tseg/.conda/lib/python3.11/site-packages/plantseg/io/tiff.py:114: UserWarning: No metadata found.\n",
      "  warnings.warn(\"No metadata found.\")\n",
      "\n",
      "\u001b[A\n",
      "\u001b[A\n",
      "\u001b[A\n",
      "\u001b[A\n",
      "\u001b[A\n",
      "\u001b[A\n",
      "\u001b[A\n",
      "\u001b[A\n",
      "\u001b[A\n",
      "\u001b[A\n",
      "\u001b[A\n",
      "\u001b[A\n",
      "\u001b[A\n",
      "100%|██████████| 345/345 [00:01<00:00, 247.96it/s]\n"
     ]
    },
    {
     "name": "stdout",
     "output_type": "stream",
     "text": [
      "INFO: P [MainThread] 2025-01-28 01:40:49,514 plantseg.functionals.prediction.prediction - Zoo prediction: Running model from PlantSeg official zoo.\n",
      "INFO: P [MainThread] 2025-01-28 01:40:49,570 plantseg.functionals.prediction.prediction - Computing theoretical minimum halo from model.\n",
      "INFO: P [MainThread] 2025-01-28 01:40:49,571 plantseg.functionals.prediction.prediction - For raw in shape (700, 1100): set patch shape (1, 64, 64), set halo shape (0, 44, 44)\n"
     ]
    },
    {
     "name": "stderr",
     "output_type": "stream",
     "text": [
      "/space/alireza/tseg/.conda/lib/python3.11/site-packages/plantseg/io/tiff.py:114: UserWarning: No metadata found.\n",
      "  warnings.warn(\"No metadata found.\")\n"
     ]
    },
    {
     "name": "stdout",
     "output_type": "stream",
     "text": [
      "INFO: P [MainThread] 2025-01-28 01:40:49,584 plantseg.functionals.prediction.utils.array_predictor - Using batch size of 1 for prediction\n"
     ]
    },
    {
     "name": "stderr",
     "output_type": "stream",
     "text": [
      "\n",
      "\u001b[A\n",
      "\u001b[A\n",
      "\u001b[A\n",
      "\u001b[A\n",
      "\u001b[A\n",
      "\u001b[A\n",
      "\u001b[A\n",
      "\u001b[A\n",
      "\u001b[A\n",
      "\u001b[A\n",
      "\u001b[A\n",
      "\u001b[A\n",
      "\u001b[A\n",
      "100%|██████████| 345/345 [00:01<00:00, 247.29it/s]\n"
     ]
    },
    {
     "name": "stdout",
     "output_type": "stream",
     "text": [
      "INFO: P [MainThread] 2025-01-28 01:40:51,047 plantseg.functionals.prediction.prediction - Zoo prediction: Running model from PlantSeg official zoo.\n",
      "INFO: P [MainThread] 2025-01-28 01:40:51,074 plantseg.functionals.prediction.prediction - Computing theoretical minimum halo from model.\n",
      "INFO: P [MainThread] 2025-01-28 01:40:51,074 plantseg.functionals.prediction.prediction - For raw in shape (700, 1100): set patch shape (1, 64, 64), set halo shape (0, 44, 44)\n",
      "INFO: P [MainThread] 2025-01-28 01:40:51,083 plantseg.functionals.prediction.utils.array_predictor - Using batch size of 1 for prediction\n"
     ]
    },
    {
     "name": "stderr",
     "output_type": "stream",
     "text": [
      "/space/alireza/tseg/.conda/lib/python3.11/site-packages/plantseg/io/tiff.py:114: UserWarning: No metadata found.\n",
      "  warnings.warn(\"No metadata found.\")\n",
      "\n",
      "\u001b[A\n",
      "\u001b[A\n",
      "\u001b[A\n",
      "\u001b[A\n",
      "\u001b[A\n",
      "\u001b[A\n",
      "\u001b[A\n",
      "\u001b[A\n",
      "100%|██████████| 345/345 [00:00<00:00, 403.61it/s]\n"
     ]
    },
    {
     "name": "stdout",
     "output_type": "stream",
     "text": [
      "INFO: P [MainThread] 2025-01-28 01:40:52,008 plantseg.functionals.prediction.prediction - Zoo prediction: Running model from PlantSeg official zoo.\n",
      "INFO: P [MainThread] 2025-01-28 01:40:52,041 plantseg.functionals.prediction.prediction - Computing theoretical minimum halo from model.\n",
      "INFO: P [MainThread] 2025-01-28 01:40:52,041 plantseg.functionals.prediction.prediction - For raw in shape (700, 1100): set patch shape (1, 64, 64), set halo shape (0, 44, 44)\n",
      "INFO: P [MainThread] 2025-01-28 01:40:52,048 plantseg.functionals.prediction.utils.array_predictor - Using batch size of 1 for prediction\n"
     ]
    },
    {
     "name": "stderr",
     "output_type": "stream",
     "text": [
      "/space/alireza/tseg/.conda/lib/python3.11/site-packages/plantseg/io/tiff.py:114: UserWarning: No metadata found.\n",
      "  warnings.warn(\"No metadata found.\")\n",
      "\n",
      "\u001b[A\n",
      "\u001b[A\n",
      "\u001b[A\n",
      "\u001b[A\n",
      "\u001b[A\n",
      "\u001b[A\n",
      "\u001b[A\n",
      "\u001b[A\n",
      "100%|██████████| 345/345 [00:00<00:00, 403.81it/s]\n",
      "Processing dataset:  74%|███████▍  | 74/100 [06:09<02:01,  4.69s/it]"
     ]
    },
    {
     "name": "stdout",
     "output_type": "stream",
     "text": [
      "INFO: P [MainThread] 2025-01-28 01:40:52,973 plantseg.functionals.prediction.prediction - Zoo prediction: Running model from PlantSeg official zoo.\n",
      "INFO: P [MainThread] 2025-01-28 01:40:53,029 plantseg.functionals.prediction.prediction - Computing theoretical minimum halo from model.\n",
      "INFO: P [MainThread] 2025-01-28 01:40:53,029 plantseg.functionals.prediction.prediction - For raw in shape (700, 1100): set patch shape (1, 64, 64), set halo shape (0, 44, 44)\n",
      "INFO: P [MainThread] 2025-01-28 01:40:53,043 plantseg.functionals.prediction.utils.array_predictor - Using batch size of 1 for prediction\n"
     ]
    },
    {
     "name": "stderr",
     "output_type": "stream",
     "text": [
      "/space/alireza/tseg/.conda/lib/python3.11/site-packages/plantseg/io/tiff.py:114: UserWarning: No metadata found.\n",
      "  warnings.warn(\"No metadata found.\")\n",
      "\n",
      "\u001b[A\n",
      "\u001b[A\n",
      "\u001b[A\n",
      "\u001b[A\n",
      "\u001b[A\n",
      "\u001b[A\n",
      "\u001b[A\n",
      "\u001b[A\n",
      "\u001b[A\n",
      "\u001b[A\n",
      "\u001b[A\n",
      "\u001b[A\n",
      "\u001b[A\n",
      "100%|██████████| 345/345 [00:01<00:00, 247.70it/s]\n"
     ]
    },
    {
     "name": "stdout",
     "output_type": "stream",
     "text": [
      "INFO: P [MainThread] 2025-01-28 01:40:54,506 plantseg.functionals.prediction.prediction - Zoo prediction: Running model from PlantSeg official zoo.\n"
     ]
    },
    {
     "name": "stderr",
     "output_type": "stream",
     "text": [
      "/space/alireza/tseg/.conda/lib/python3.11/site-packages/plantseg/io/tiff.py:114: UserWarning: No metadata found.\n",
      "  warnings.warn(\"No metadata found.\")\n"
     ]
    },
    {
     "name": "stdout",
     "output_type": "stream",
     "text": [
      "INFO: P [MainThread] 2025-01-28 01:40:54,563 plantseg.functionals.prediction.prediction - Computing theoretical minimum halo from model.\n",
      "INFO: P [MainThread] 2025-01-28 01:40:54,564 plantseg.functionals.prediction.prediction - For raw in shape (700, 1100): set patch shape (1, 64, 64), set halo shape (0, 44, 44)\n",
      "INFO: P [MainThread] 2025-01-28 01:40:54,577 plantseg.functionals.prediction.utils.array_predictor - Using batch size of 1 for prediction\n"
     ]
    },
    {
     "name": "stderr",
     "output_type": "stream",
     "text": [
      "\n",
      "\u001b[A\n",
      "\u001b[A\n",
      "\u001b[A\n",
      "\u001b[A\n",
      "\u001b[A\n",
      "\u001b[A\n",
      "\u001b[A\n",
      "\u001b[A\n",
      "\u001b[A\n",
      "\u001b[A\n",
      "\u001b[A\n",
      "\u001b[A\n",
      "\u001b[A\n",
      "100%|██████████| 345/345 [00:01<00:00, 245.60it/s]\n"
     ]
    },
    {
     "name": "stdout",
     "output_type": "stream",
     "text": [
      "INFO: P [MainThread] 2025-01-28 01:40:56,053 plantseg.functionals.prediction.prediction - Zoo prediction: Running model from PlantSeg official zoo.\n",
      "INFO: P [MainThread] 2025-01-28 01:40:56,080 plantseg.functionals.prediction.prediction - Computing theoretical minimum halo from model.\n",
      "INFO: P [MainThread] 2025-01-28 01:40:56,081 plantseg.functionals.prediction.prediction - For raw in shape (700, 1100): set patch shape (1, 64, 64), set halo shape (0, 44, 44)\n",
      "INFO: P [MainThread] 2025-01-28 01:40:56,089 plantseg.functionals.prediction.utils.array_predictor - Using batch size of 1 for prediction\n"
     ]
    },
    {
     "name": "stderr",
     "output_type": "stream",
     "text": [
      "/space/alireza/tseg/.conda/lib/python3.11/site-packages/plantseg/io/tiff.py:114: UserWarning: No metadata found.\n",
      "  warnings.warn(\"No metadata found.\")\n",
      "\n",
      "\u001b[A\n",
      "\u001b[A\n",
      "\u001b[A\n",
      "\u001b[A\n",
      "\u001b[A\n",
      "\u001b[A\n",
      "\u001b[A\n",
      "\u001b[A\n",
      "100%|██████████| 345/345 [00:00<00:00, 402.92it/s]\n"
     ]
    },
    {
     "name": "stdout",
     "output_type": "stream",
     "text": [
      "INFO: P [MainThread] 2025-01-28 01:40:57,014 plantseg.functionals.prediction.prediction - Zoo prediction: Running model from PlantSeg official zoo.\n",
      "INFO: P [MainThread] 2025-01-28 01:40:57,047 plantseg.functionals.prediction.prediction - Computing theoretical minimum halo from model.\n",
      "INFO: P [MainThread] 2025-01-28 01:40:57,048 plantseg.functionals.prediction.prediction - For raw in shape (700, 1100): set patch shape (1, 64, 64), set halo shape (0, 44, 44)\n",
      "INFO: P [MainThread] 2025-01-28 01:40:57,055 plantseg.functionals.prediction.utils.array_predictor - Using batch size of 1 for prediction\n"
     ]
    },
    {
     "name": "stderr",
     "output_type": "stream",
     "text": [
      "/space/alireza/tseg/.conda/lib/python3.11/site-packages/plantseg/io/tiff.py:114: UserWarning: No metadata found.\n",
      "  warnings.warn(\"No metadata found.\")\n",
      "\n",
      "\u001b[A\n",
      "\u001b[A\n",
      "\u001b[A\n",
      "\u001b[A\n",
      "\u001b[A\n",
      "\u001b[A\n",
      "\u001b[A\n",
      "\u001b[A\n",
      "100%|██████████| 345/345 [00:00<00:00, 399.90it/s]\n",
      "Processing dataset:  75%|███████▌  | 75/100 [06:14<01:59,  4.79s/it]"
     ]
    },
    {
     "name": "stdout",
     "output_type": "stream",
     "text": [
      "INFO: P [MainThread] 2025-01-28 01:40:57,995 plantseg.functionals.prediction.prediction - Zoo prediction: Running model from PlantSeg official zoo.\n",
      "INFO: P [MainThread] 2025-01-28 01:40:58,052 plantseg.functionals.prediction.prediction - Computing theoretical minimum halo from model.\n",
      "INFO: P [MainThread] 2025-01-28 01:40:58,052 plantseg.functionals.prediction.prediction - For raw in shape (700, 1100): set patch shape (1, 64, 64), set halo shape (0, 44, 44)\n",
      "INFO: P [MainThread] 2025-01-28 01:40:58,066 plantseg.functionals.prediction.utils.array_predictor - Using batch size of 1 for prediction\n"
     ]
    },
    {
     "name": "stderr",
     "output_type": "stream",
     "text": [
      "/space/alireza/tseg/.conda/lib/python3.11/site-packages/plantseg/io/tiff.py:114: UserWarning: No metadata found.\n",
      "  warnings.warn(\"No metadata found.\")\n",
      "\n",
      "\u001b[A\n",
      "\u001b[A\n",
      "\u001b[A\n",
      "\u001b[A\n",
      "\u001b[A\n",
      "\u001b[A\n",
      "\u001b[A\n",
      "\u001b[A\n",
      "\u001b[A\n",
      "\u001b[A\n",
      "\u001b[A\n",
      "\u001b[A\n",
      "\u001b[A\n",
      "100%|██████████| 345/345 [00:01<00:00, 244.52it/s]\n"
     ]
    },
    {
     "name": "stdout",
     "output_type": "stream",
     "text": [
      "INFO: P [MainThread] 2025-01-28 01:40:59,550 plantseg.functionals.prediction.prediction - Zoo prediction: Running model from PlantSeg official zoo.\n"
     ]
    },
    {
     "name": "stderr",
     "output_type": "stream",
     "text": [
      "/space/alireza/tseg/.conda/lib/python3.11/site-packages/plantseg/io/tiff.py:114: UserWarning: No metadata found.\n",
      "  warnings.warn(\"No metadata found.\")\n"
     ]
    },
    {
     "name": "stdout",
     "output_type": "stream",
     "text": [
      "INFO: P [MainThread] 2025-01-28 01:40:59,607 plantseg.functionals.prediction.prediction - Computing theoretical minimum halo from model.\n",
      "INFO: P [MainThread] 2025-01-28 01:40:59,607 plantseg.functionals.prediction.prediction - For raw in shape (700, 1100): set patch shape (1, 64, 64), set halo shape (0, 44, 44)\n",
      "INFO: P [MainThread] 2025-01-28 01:40:59,621 plantseg.functionals.prediction.utils.array_predictor - Using batch size of 1 for prediction\n"
     ]
    },
    {
     "name": "stderr",
     "output_type": "stream",
     "text": [
      "\n",
      "\u001b[A\n",
      "\u001b[A\n",
      "\u001b[A\n",
      "\u001b[A\n",
      "\u001b[A\n",
      "\u001b[A\n",
      "\u001b[A\n",
      "\u001b[A\n",
      "\u001b[A\n",
      "\u001b[A\n",
      "\u001b[A\n",
      "\u001b[A\n",
      "\u001b[A\n",
      "100%|██████████| 345/345 [00:01<00:00, 244.21it/s]\n"
     ]
    },
    {
     "name": "stdout",
     "output_type": "stream",
     "text": [
      "INFO: P [MainThread] 2025-01-28 01:41:01,107 plantseg.functionals.prediction.prediction - Zoo prediction: Running model from PlantSeg official zoo.\n",
      "INFO: P [MainThread] 2025-01-28 01:41:01,135 plantseg.functionals.prediction.prediction - Computing theoretical minimum halo from model.\n",
      "INFO: P [MainThread] 2025-01-28 01:41:01,135 plantseg.functionals.prediction.prediction - For raw in shape (700, 1100): set patch shape (1, 64, 64), set halo shape (0, 44, 44)\n",
      "INFO: P [MainThread] 2025-01-28 01:41:01,143 plantseg.functionals.prediction.utils.array_predictor - Using batch size of 1 for prediction\n"
     ]
    },
    {
     "name": "stderr",
     "output_type": "stream",
     "text": [
      "/space/alireza/tseg/.conda/lib/python3.11/site-packages/plantseg/io/tiff.py:114: UserWarning: No metadata found.\n",
      "  warnings.warn(\"No metadata found.\")\n",
      "\n",
      "\u001b[A\n",
      "\u001b[A\n",
      "\u001b[A\n",
      "\u001b[A\n",
      "\u001b[A\n",
      "\u001b[A\n",
      "\u001b[A\n",
      "\u001b[A\n",
      "100%|██████████| 345/345 [00:00<00:00, 403.32it/s]\n"
     ]
    },
    {
     "name": "stdout",
     "output_type": "stream",
     "text": [
      "INFO: P [MainThread] 2025-01-28 01:41:02,070 plantseg.functionals.prediction.prediction - Zoo prediction: Running model from PlantSeg official zoo.\n",
      "INFO: P [MainThread] 2025-01-28 01:41:02,103 plantseg.functionals.prediction.prediction - Computing theoretical minimum halo from model.\n",
      "INFO: P [MainThread] 2025-01-28 01:41:02,104 plantseg.functionals.prediction.prediction - For raw in shape (700, 1100): set patch shape (1, 64, 64), set halo shape (0, 44, 44)\n",
      "INFO: P [MainThread] 2025-01-28 01:41:02,110 plantseg.functionals.prediction.utils.array_predictor - Using batch size of 1 for prediction\n"
     ]
    },
    {
     "name": "stderr",
     "output_type": "stream",
     "text": [
      "/space/alireza/tseg/.conda/lib/python3.11/site-packages/plantseg/io/tiff.py:114: UserWarning: No metadata found.\n",
      "  warnings.warn(\"No metadata found.\")\n",
      "\n",
      "\u001b[A\n",
      "\u001b[A\n",
      "\u001b[A\n",
      "\u001b[A\n",
      "\u001b[A\n",
      "\u001b[A\n",
      "\u001b[A\n",
      "\u001b[A\n",
      "100%|██████████| 345/345 [00:00<00:00, 404.03it/s]\n",
      "Processing dataset:  76%|███████▌  | 76/100 [06:19<01:56,  4.87s/it]"
     ]
    },
    {
     "name": "stdout",
     "output_type": "stream",
     "text": [
      "INFO: P [MainThread] 2025-01-28 01:41:03,040 plantseg.functionals.prediction.prediction - Zoo prediction: Running model from PlantSeg official zoo.\n",
      "INFO: P [MainThread] 2025-01-28 01:41:03,096 plantseg.functionals.prediction.prediction - Computing theoretical minimum halo from model.\n",
      "INFO: P [MainThread] 2025-01-28 01:41:03,096 plantseg.functionals.prediction.prediction - For raw in shape (700, 1100): set patch shape (1, 64, 64), set halo shape (0, 44, 44)\n",
      "INFO: P [MainThread] 2025-01-28 01:41:03,110 plantseg.functionals.prediction.utils.array_predictor - Using batch size of 1 for prediction\n"
     ]
    },
    {
     "name": "stderr",
     "output_type": "stream",
     "text": [
      "/space/alireza/tseg/.conda/lib/python3.11/site-packages/plantseg/io/tiff.py:114: UserWarning: No metadata found.\n",
      "  warnings.warn(\"No metadata found.\")\n",
      "\n",
      "\u001b[A\n",
      "\u001b[A\n",
      "\u001b[A\n",
      "\u001b[A\n",
      "\u001b[A\n",
      "\u001b[A\n",
      "\u001b[A\n",
      "\u001b[A\n",
      "\u001b[A\n",
      "\u001b[A\n",
      "\u001b[A\n",
      "\u001b[A\n",
      "\u001b[A\n",
      "100%|██████████| 345/345 [00:01<00:00, 247.75it/s]\n"
     ]
    },
    {
     "name": "stdout",
     "output_type": "stream",
     "text": [
      "INFO: P [MainThread] 2025-01-28 01:41:04,574 plantseg.functionals.prediction.prediction - Zoo prediction: Running model from PlantSeg official zoo.\n"
     ]
    },
    {
     "name": "stderr",
     "output_type": "stream",
     "text": [
      "/space/alireza/tseg/.conda/lib/python3.11/site-packages/plantseg/io/tiff.py:114: UserWarning: No metadata found.\n",
      "  warnings.warn(\"No metadata found.\")\n"
     ]
    },
    {
     "name": "stdout",
     "output_type": "stream",
     "text": [
      "INFO: P [MainThread] 2025-01-28 01:41:04,630 plantseg.functionals.prediction.prediction - Computing theoretical minimum halo from model.\n",
      "INFO: P [MainThread] 2025-01-28 01:41:04,631 plantseg.functionals.prediction.prediction - For raw in shape (700, 1100): set patch shape (1, 64, 64), set halo shape (0, 44, 44)\n",
      "INFO: P [MainThread] 2025-01-28 01:41:04,644 plantseg.functionals.prediction.utils.array_predictor - Using batch size of 1 for prediction\n"
     ]
    },
    {
     "name": "stderr",
     "output_type": "stream",
     "text": [
      "\n",
      "\u001b[A\n",
      "\u001b[A\n",
      "\u001b[A\n",
      "\u001b[A\n",
      "\u001b[A\n",
      "\u001b[A\n",
      "\u001b[A\n",
      "\u001b[A\n",
      "\u001b[A\n",
      "\u001b[A\n",
      "\u001b[A\n",
      "\u001b[A\n",
      "\u001b[A\n",
      "100%|██████████| 345/345 [00:01<00:00, 247.36it/s]\n"
     ]
    },
    {
     "name": "stdout",
     "output_type": "stream",
     "text": [
      "INFO: P [MainThread] 2025-01-28 01:41:06,111 plantseg.functionals.prediction.prediction - Zoo prediction: Running model from PlantSeg official zoo.\n",
      "INFO: P [MainThread] 2025-01-28 01:41:06,138 plantseg.functionals.prediction.prediction - Computing theoretical minimum halo from model.\n",
      "INFO: P [MainThread] 2025-01-28 01:41:06,138 plantseg.functionals.prediction.prediction - For raw in shape (700, 1100): set patch shape (1, 64, 64), set halo shape (0, 44, 44)\n",
      "INFO: P [MainThread] 2025-01-28 01:41:06,147 plantseg.functionals.prediction.utils.array_predictor - Using batch size of 1 for prediction\n"
     ]
    },
    {
     "name": "stderr",
     "output_type": "stream",
     "text": [
      "/space/alireza/tseg/.conda/lib/python3.11/site-packages/plantseg/io/tiff.py:114: UserWarning: No metadata found.\n",
      "  warnings.warn(\"No metadata found.\")\n",
      "\n",
      "\u001b[A\n",
      "\u001b[A\n",
      "\u001b[A\n",
      "\u001b[A\n",
      "\u001b[A\n",
      "\u001b[A\n",
      "\u001b[A\n",
      "\u001b[A\n",
      "100%|██████████| 345/345 [00:00<00:00, 403.94it/s]\n"
     ]
    },
    {
     "name": "stdout",
     "output_type": "stream",
     "text": [
      "INFO: P [MainThread] 2025-01-28 01:41:07,073 plantseg.functionals.prediction.prediction - Zoo prediction: Running model from PlantSeg official zoo.\n",
      "INFO: P [MainThread] 2025-01-28 01:41:07,106 plantseg.functionals.prediction.prediction - Computing theoretical minimum halo from model.\n",
      "INFO: P [MainThread] 2025-01-28 01:41:07,107 plantseg.functionals.prediction.prediction - For raw in shape (700, 1100): set patch shape (1, 64, 64), set halo shape (0, 44, 44)\n",
      "INFO: P [MainThread] 2025-01-28 01:41:07,114 plantseg.functionals.prediction.utils.array_predictor - Using batch size of 1 for prediction\n"
     ]
    },
    {
     "name": "stderr",
     "output_type": "stream",
     "text": [
      "/space/alireza/tseg/.conda/lib/python3.11/site-packages/plantseg/io/tiff.py:114: UserWarning: No metadata found.\n",
      "  warnings.warn(\"No metadata found.\")\n",
      "\n",
      "\u001b[A\n",
      "\u001b[A\n",
      "\u001b[A\n",
      "\u001b[A\n",
      "\u001b[A\n",
      "\u001b[A\n",
      "\u001b[A\n",
      "\u001b[A\n",
      "100%|██████████| 345/345 [00:00<00:00, 404.34it/s]\n",
      "Processing dataset:  77%|███████▋  | 77/100 [06:24<01:52,  4.91s/it]"
     ]
    },
    {
     "name": "stdout",
     "output_type": "stream",
     "text": [
      "INFO: P [MainThread] 2025-01-28 01:41:08,043 plantseg.functionals.prediction.prediction - Zoo prediction: Running model from PlantSeg official zoo.\n",
      "INFO: P [MainThread] 2025-01-28 01:41:08,099 plantseg.functionals.prediction.prediction - Computing theoretical minimum halo from model.\n",
      "INFO: P [MainThread] 2025-01-28 01:41:08,100 plantseg.functionals.prediction.prediction - For raw in shape (700, 1100): set patch shape (1, 64, 64), set halo shape (0, 44, 44)\n",
      "INFO: P [MainThread] 2025-01-28 01:41:08,113 plantseg.functionals.prediction.utils.array_predictor - Using batch size of 1 for prediction\n"
     ]
    },
    {
     "name": "stderr",
     "output_type": "stream",
     "text": [
      "/space/alireza/tseg/.conda/lib/python3.11/site-packages/plantseg/io/tiff.py:114: UserWarning: No metadata found.\n",
      "  warnings.warn(\"No metadata found.\")\n",
      "\n",
      "\u001b[A\n",
      "\u001b[A\n",
      "\u001b[A\n",
      "\u001b[A\n",
      "\u001b[A\n",
      "\u001b[A\n",
      "\u001b[A\n",
      "\u001b[A\n",
      "\u001b[A\n",
      "\u001b[A\n",
      "\u001b[A\n",
      "\u001b[A\n",
      "\u001b[A\n",
      "100%|██████████| 345/345 [00:01<00:00, 247.35it/s]\n"
     ]
    },
    {
     "name": "stdout",
     "output_type": "stream",
     "text": [
      "INFO: P [MainThread] 2025-01-28 01:41:09,582 plantseg.functionals.prediction.prediction - Zoo prediction: Running model from PlantSeg official zoo.\n"
     ]
    },
    {
     "name": "stderr",
     "output_type": "stream",
     "text": [
      "/space/alireza/tseg/.conda/lib/python3.11/site-packages/plantseg/io/tiff.py:114: UserWarning: No metadata found.\n",
      "  warnings.warn(\"No metadata found.\")\n"
     ]
    },
    {
     "name": "stdout",
     "output_type": "stream",
     "text": [
      "INFO: P [MainThread] 2025-01-28 01:41:09,639 plantseg.functionals.prediction.prediction - Computing theoretical minimum halo from model.\n",
      "INFO: P [MainThread] 2025-01-28 01:41:09,640 plantseg.functionals.prediction.prediction - For raw in shape (700, 1100): set patch shape (1, 64, 64), set halo shape (0, 44, 44)\n",
      "INFO: P [MainThread] 2025-01-28 01:41:09,653 plantseg.functionals.prediction.utils.array_predictor - Using batch size of 1 for prediction\n"
     ]
    },
    {
     "name": "stderr",
     "output_type": "stream",
     "text": [
      "\n",
      "\u001b[A\n",
      "\u001b[A\n",
      "\u001b[A\n",
      "\u001b[A\n",
      "\u001b[A\n",
      "\u001b[A\n",
      "\u001b[A\n",
      "\u001b[A\n",
      "\u001b[A\n",
      "\u001b[A\n",
      "\u001b[A\n",
      "\u001b[A\n",
      "\u001b[A\n",
      "100%|██████████| 345/345 [00:01<00:00, 247.39it/s]\n"
     ]
    },
    {
     "name": "stdout",
     "output_type": "stream",
     "text": [
      "INFO: P [MainThread] 2025-01-28 01:41:11,120 plantseg.functionals.prediction.prediction - Zoo prediction: Running model from PlantSeg official zoo.\n",
      "INFO: P [MainThread] 2025-01-28 01:41:11,147 plantseg.functionals.prediction.prediction - Computing theoretical minimum halo from model.\n",
      "INFO: P [MainThread] 2025-01-28 01:41:11,148 plantseg.functionals.prediction.prediction - For raw in shape (700, 1100): set patch shape (1, 64, 64), set halo shape (0, 44, 44)\n",
      "INFO: P [MainThread] 2025-01-28 01:41:11,156 plantseg.functionals.prediction.utils.array_predictor - Using batch size of 1 for prediction\n"
     ]
    },
    {
     "name": "stderr",
     "output_type": "stream",
     "text": [
      "/space/alireza/tseg/.conda/lib/python3.11/site-packages/plantseg/io/tiff.py:114: UserWarning: No metadata found.\n",
      "  warnings.warn(\"No metadata found.\")\n",
      "\n",
      "\u001b[A\n",
      "\u001b[A\n",
      "\u001b[A\n",
      "\u001b[A\n",
      "\u001b[A\n",
      "\u001b[A\n",
      "\u001b[A\n",
      "\u001b[A\n",
      "100%|██████████| 345/345 [00:00<00:00, 404.29it/s]\n"
     ]
    },
    {
     "name": "stdout",
     "output_type": "stream",
     "text": [
      "INFO: P [MainThread] 2025-01-28 01:41:12,083 plantseg.functionals.prediction.prediction - Zoo prediction: Running model from PlantSeg official zoo.\n",
      "INFO: P [MainThread] 2025-01-28 01:41:12,116 plantseg.functionals.prediction.prediction - Computing theoretical minimum halo from model.\n",
      "INFO: P [MainThread] 2025-01-28 01:41:12,116 plantseg.functionals.prediction.prediction - For raw in shape (700, 1100): set patch shape (1, 64, 64), set halo shape (0, 44, 44)\n",
      "INFO: P [MainThread] 2025-01-28 01:41:12,123 plantseg.functionals.prediction.utils.array_predictor - Using batch size of 1 for prediction\n"
     ]
    },
    {
     "name": "stderr",
     "output_type": "stream",
     "text": [
      "/space/alireza/tseg/.conda/lib/python3.11/site-packages/plantseg/io/tiff.py:114: UserWarning: No metadata found.\n",
      "  warnings.warn(\"No metadata found.\")\n",
      "\n",
      "\u001b[A\n",
      "\u001b[A\n",
      "\u001b[A\n",
      "\u001b[A\n",
      "\u001b[A\n",
      "\u001b[A\n",
      "\u001b[A\n",
      "\u001b[A\n",
      "100%|██████████| 345/345 [00:00<00:00, 403.91it/s]\n",
      "Processing dataset:  78%|███████▊  | 78/100 [06:29<01:48,  4.94s/it]"
     ]
    },
    {
     "name": "stdout",
     "output_type": "stream",
     "text": [
      "INFO: P [MainThread] 2025-01-28 01:41:13,054 plantseg.functionals.prediction.prediction - Zoo prediction: Running model from PlantSeg official zoo.\n",
      "INFO: P [MainThread] 2025-01-28 01:41:13,109 plantseg.functionals.prediction.prediction - Computing theoretical minimum halo from model.\n",
      "INFO: P [MainThread] 2025-01-28 01:41:13,110 plantseg.functionals.prediction.prediction - For raw in shape (700, 1100): set patch shape (1, 64, 64), set halo shape (0, 44, 44)\n",
      "INFO: P [MainThread] 2025-01-28 01:41:13,124 plantseg.functionals.prediction.utils.array_predictor - Using batch size of 1 for prediction\n"
     ]
    },
    {
     "name": "stderr",
     "output_type": "stream",
     "text": [
      "/space/alireza/tseg/.conda/lib/python3.11/site-packages/plantseg/io/tiff.py:114: UserWarning: No metadata found.\n",
      "  warnings.warn(\"No metadata found.\")\n",
      "\n",
      "\u001b[A\n",
      "\u001b[A\n",
      "\u001b[A\n",
      "\u001b[A\n",
      "\u001b[A\n",
      "\u001b[A\n",
      "\u001b[A\n",
      "\u001b[A\n",
      "\u001b[A\n",
      "\u001b[A\n",
      "\u001b[A\n",
      "\u001b[A\n",
      "\u001b[A\n",
      "100%|██████████| 345/345 [00:01<00:00, 247.61it/s]\n"
     ]
    },
    {
     "name": "stdout",
     "output_type": "stream",
     "text": [
      "INFO: P [MainThread] 2025-01-28 01:41:14,589 plantseg.functionals.prediction.prediction - Zoo prediction: Running model from PlantSeg official zoo.\n"
     ]
    },
    {
     "name": "stderr",
     "output_type": "stream",
     "text": [
      "/space/alireza/tseg/.conda/lib/python3.11/site-packages/plantseg/io/tiff.py:114: UserWarning: No metadata found.\n",
      "  warnings.warn(\"No metadata found.\")\n"
     ]
    },
    {
     "name": "stdout",
     "output_type": "stream",
     "text": [
      "INFO: P [MainThread] 2025-01-28 01:41:14,645 plantseg.functionals.prediction.prediction - Computing theoretical minimum halo from model.\n",
      "INFO: P [MainThread] 2025-01-28 01:41:14,646 plantseg.functionals.prediction.prediction - For raw in shape (700, 1100): set patch shape (1, 64, 64), set halo shape (0, 44, 44)\n",
      "INFO: P [MainThread] 2025-01-28 01:41:14,659 plantseg.functionals.prediction.utils.array_predictor - Using batch size of 1 for prediction\n"
     ]
    },
    {
     "name": "stderr",
     "output_type": "stream",
     "text": [
      "\n",
      "\u001b[A\n",
      "\u001b[A\n",
      "\u001b[A\n",
      "\u001b[A\n",
      "\u001b[A\n",
      "\u001b[A\n",
      "\u001b[A\n",
      "\u001b[A\n",
      "\u001b[A\n",
      "\u001b[A\n",
      "\u001b[A\n",
      "\u001b[A\n",
      "\u001b[A\n",
      "100%|██████████| 345/345 [00:01<00:00, 247.17it/s]\n"
     ]
    },
    {
     "name": "stdout",
     "output_type": "stream",
     "text": [
      "INFO: P [MainThread] 2025-01-28 01:41:16,126 plantseg.functionals.prediction.prediction - Zoo prediction: Running model from PlantSeg official zoo.\n",
      "INFO: P [MainThread] 2025-01-28 01:41:16,153 plantseg.functionals.prediction.prediction - Computing theoretical minimum halo from model.\n",
      "INFO: P [MainThread] 2025-01-28 01:41:16,154 plantseg.functionals.prediction.prediction - For raw in shape (700, 1100): set patch shape (1, 64, 64), set halo shape (0, 44, 44)\n",
      "INFO: P [MainThread] 2025-01-28 01:41:16,162 plantseg.functionals.prediction.utils.array_predictor - Using batch size of 1 for prediction\n"
     ]
    },
    {
     "name": "stderr",
     "output_type": "stream",
     "text": [
      "/space/alireza/tseg/.conda/lib/python3.11/site-packages/plantseg/io/tiff.py:114: UserWarning: No metadata found.\n",
      "  warnings.warn(\"No metadata found.\")\n",
      "\n",
      "\u001b[A\n",
      "\u001b[A\n",
      "\u001b[A\n",
      "\u001b[A\n",
      "\u001b[A\n",
      "\u001b[A\n",
      "\u001b[A\n",
      "\u001b[A\n",
      "100%|██████████| 345/345 [00:00<00:00, 403.98it/s]\n"
     ]
    },
    {
     "name": "stdout",
     "output_type": "stream",
     "text": [
      "INFO: P [MainThread] 2025-01-28 01:41:17,089 plantseg.functionals.prediction.prediction - Zoo prediction: Running model from PlantSeg official zoo.\n",
      "INFO: P [MainThread] 2025-01-28 01:41:17,123 plantseg.functionals.prediction.prediction - Computing theoretical minimum halo from model.\n",
      "INFO: P [MainThread] 2025-01-28 01:41:17,123 plantseg.functionals.prediction.prediction - For raw in shape (700, 1100): set patch shape (1, 64, 64), set halo shape (0, 44, 44)\n",
      "INFO: P [MainThread] 2025-01-28 01:41:17,130 plantseg.functionals.prediction.utils.array_predictor - Using batch size of 1 for prediction\n"
     ]
    },
    {
     "name": "stderr",
     "output_type": "stream",
     "text": [
      "/space/alireza/tseg/.conda/lib/python3.11/site-packages/plantseg/io/tiff.py:114: UserWarning: No metadata found.\n",
      "  warnings.warn(\"No metadata found.\")\n",
      "\n",
      "\u001b[A\n",
      "\u001b[A\n",
      "\u001b[A\n",
      "\u001b[A\n",
      "\u001b[A\n",
      "\u001b[A\n",
      "\u001b[A\n",
      "\u001b[A\n",
      "100%|██████████| 345/345 [00:00<00:00, 403.15it/s]\n",
      "Processing dataset:  79%|███████▉  | 79/100 [06:34<01:44,  4.96s/it]"
     ]
    },
    {
     "name": "stdout",
     "output_type": "stream",
     "text": [
      "INFO: P [MainThread] 2025-01-28 01:41:18,059 plantseg.functionals.prediction.prediction - Zoo prediction: Running model from PlantSeg official zoo.\n",
      "INFO: P [MainThread] 2025-01-28 01:41:18,115 plantseg.functionals.prediction.prediction - Computing theoretical minimum halo from model.\n",
      "INFO: P [MainThread] 2025-01-28 01:41:18,116 plantseg.functionals.prediction.prediction - For raw in shape (700, 1100): set patch shape (1, 64, 64), set halo shape (0, 44, 44)\n",
      "INFO: P [MainThread] 2025-01-28 01:41:18,130 plantseg.functionals.prediction.utils.array_predictor - Using batch size of 1 for prediction\n"
     ]
    },
    {
     "name": "stderr",
     "output_type": "stream",
     "text": [
      "/space/alireza/tseg/.conda/lib/python3.11/site-packages/plantseg/io/tiff.py:114: UserWarning: No metadata found.\n",
      "  warnings.warn(\"No metadata found.\")\n",
      "\n",
      "\u001b[A\n",
      "\u001b[A\n",
      "\u001b[A\n",
      "\u001b[A\n",
      "\u001b[A\n",
      "\u001b[A\n",
      "\u001b[A\n",
      "\u001b[A\n",
      "\u001b[A\n",
      "\u001b[A\n",
      "\u001b[A\n",
      "\u001b[A\n",
      "\u001b[A\n",
      "100%|██████████| 345/345 [00:01<00:00, 247.68it/s]\n"
     ]
    },
    {
     "name": "stdout",
     "output_type": "stream",
     "text": [
      "INFO: P [MainThread] 2025-01-28 01:41:19,592 plantseg.functionals.prediction.prediction - Zoo prediction: Running model from PlantSeg official zoo.\n",
      "INFO: P [MainThread] 2025-01-28 01:41:19,648 plantseg.functionals.prediction.prediction - Computing theoretical minimum halo from model.\n"
     ]
    },
    {
     "name": "stderr",
     "output_type": "stream",
     "text": [
      "/space/alireza/tseg/.conda/lib/python3.11/site-packages/plantseg/io/tiff.py:114: UserWarning: No metadata found.\n",
      "  warnings.warn(\"No metadata found.\")\n"
     ]
    },
    {
     "name": "stdout",
     "output_type": "stream",
     "text": [
      "INFO: P [MainThread] 2025-01-28 01:41:19,649 plantseg.functionals.prediction.prediction - For raw in shape (700, 1100): set patch shape (1, 64, 64), set halo shape (0, 44, 44)\n",
      "INFO: P [MainThread] 2025-01-28 01:41:19,662 plantseg.functionals.prediction.utils.array_predictor - Using batch size of 1 for prediction\n"
     ]
    },
    {
     "name": "stderr",
     "output_type": "stream",
     "text": [
      "\n",
      "\u001b[A\n",
      "\u001b[A\n",
      "\u001b[A\n",
      "\u001b[A\n",
      "\u001b[A\n",
      "\u001b[A\n",
      "\u001b[A\n",
      "\u001b[A\n",
      "\u001b[A\n",
      "\u001b[A\n",
      "\u001b[A\n",
      "\u001b[A\n",
      "\u001b[A\n",
      "100%|██████████| 345/345 [00:01<00:00, 246.72it/s]\n"
     ]
    },
    {
     "name": "stdout",
     "output_type": "stream",
     "text": [
      "INFO: P [MainThread] 2025-01-28 01:41:21,130 plantseg.functionals.prediction.prediction - Zoo prediction: Running model from PlantSeg official zoo.\n",
      "INFO: P [MainThread] 2025-01-28 01:41:21,157 plantseg.functionals.prediction.prediction - Computing theoretical minimum halo from model.\n",
      "INFO: P [MainThread] 2025-01-28 01:41:21,158 plantseg.functionals.prediction.prediction - For raw in shape (700, 1100): set patch shape (1, 64, 64), set halo shape (0, 44, 44)\n",
      "INFO: P [MainThread] 2025-01-28 01:41:21,166 plantseg.functionals.prediction.utils.array_predictor - Using batch size of 1 for prediction\n"
     ]
    },
    {
     "name": "stderr",
     "output_type": "stream",
     "text": [
      "/space/alireza/tseg/.conda/lib/python3.11/site-packages/plantseg/io/tiff.py:114: UserWarning: No metadata found.\n",
      "  warnings.warn(\"No metadata found.\")\n",
      "\n",
      "\u001b[A\n",
      "\u001b[A\n",
      "\u001b[A\n",
      "\u001b[A\n",
      "\u001b[A\n",
      "\u001b[A\n",
      "\u001b[A\n",
      "\u001b[A\n",
      "100%|██████████| 345/345 [00:00<00:00, 403.81it/s]\n"
     ]
    },
    {
     "name": "stdout",
     "output_type": "stream",
     "text": [
      "INFO: P [MainThread] 2025-01-28 01:41:22,092 plantseg.functionals.prediction.prediction - Zoo prediction: Running model from PlantSeg official zoo.\n",
      "INFO: P [MainThread] 2025-01-28 01:41:22,125 plantseg.functionals.prediction.prediction - Computing theoretical minimum halo from model.\n",
      "INFO: P [MainThread] 2025-01-28 01:41:22,126 plantseg.functionals.prediction.prediction - For raw in shape (700, 1100): set patch shape (1, 64, 64), set halo shape (0, 44, 44)\n",
      "INFO: P [MainThread] 2025-01-28 01:41:22,132 plantseg.functionals.prediction.utils.array_predictor - Using batch size of 1 for prediction\n"
     ]
    },
    {
     "name": "stderr",
     "output_type": "stream",
     "text": [
      "/space/alireza/tseg/.conda/lib/python3.11/site-packages/plantseg/io/tiff.py:114: UserWarning: No metadata found.\n",
      "  warnings.warn(\"No metadata found.\")\n",
      "\n",
      "\u001b[A\n",
      "\u001b[A\n",
      "\u001b[A\n",
      "\u001b[A\n",
      "\u001b[A\n",
      "\u001b[A\n",
      "\u001b[A\n",
      "\u001b[A\n",
      "100%|██████████| 345/345 [00:00<00:00, 403.77it/s]\n",
      "Processing dataset:  80%|████████  | 80/100 [06:39<01:39,  4.97s/it]"
     ]
    },
    {
     "name": "stdout",
     "output_type": "stream",
     "text": [
      "INFO: P [MainThread] 2025-01-28 01:41:23,046 plantseg.functionals.prediction.prediction - Zoo prediction: Running model from PlantSeg official zoo.\n"
     ]
    },
    {
     "name": "stderr",
     "output_type": "stream",
     "text": [
      "/space/alireza/tseg/.conda/lib/python3.11/site-packages/plantseg/io/tiff.py:114: UserWarning: No metadata found.\n",
      "  warnings.warn(\"No metadata found.\")\n"
     ]
    },
    {
     "name": "stdout",
     "output_type": "stream",
     "text": [
      "INFO: P [MainThread] 2025-01-28 01:41:23,101 plantseg.functionals.prediction.prediction - Computing theoretical minimum halo from model.\n",
      "INFO: P [MainThread] 2025-01-28 01:41:23,102 plantseg.functionals.prediction.prediction - For raw in shape (520, 696): set patch shape (1, 64, 64), set halo shape (0, 44, 44)\n",
      "INFO: P [MainThread] 2025-01-28 01:41:23,116 plantseg.functionals.prediction.utils.array_predictor - Using batch size of 1 for prediction\n"
     ]
    },
    {
     "name": "stderr",
     "output_type": "stream",
     "text": [
      "\n",
      "\u001b[A\n",
      "\u001b[A\n",
      "\u001b[A\n",
      "\u001b[A\n",
      "\u001b[A\n",
      "\u001b[A\n",
      "100%|██████████| 165/165 [00:00<00:00, 247.59it/s]\n"
     ]
    },
    {
     "name": "stdout",
     "output_type": "stream",
     "text": [
      "INFO: P [MainThread] 2025-01-28 01:41:23,821 plantseg.functionals.prediction.prediction - Zoo prediction: Running model from PlantSeg official zoo.\n"
     ]
    },
    {
     "name": "stderr",
     "output_type": "stream",
     "text": [
      "/space/alireza/tseg/.conda/lib/python3.11/site-packages/plantseg/io/tiff.py:114: UserWarning: No metadata found.\n",
      "  warnings.warn(\"No metadata found.\")\n"
     ]
    },
    {
     "name": "stdout",
     "output_type": "stream",
     "text": [
      "INFO: P [MainThread] 2025-01-28 01:41:23,877 plantseg.functionals.prediction.prediction - Computing theoretical minimum halo from model.\n",
      "INFO: P [MainThread] 2025-01-28 01:41:23,878 plantseg.functionals.prediction.prediction - For raw in shape (520, 696): set patch shape (1, 64, 64), set halo shape (0, 44, 44)\n",
      "INFO: P [MainThread] 2025-01-28 01:41:23,891 plantseg.functionals.prediction.utils.array_predictor - Using batch size of 1 for prediction\n"
     ]
    },
    {
     "name": "stderr",
     "output_type": "stream",
     "text": [
      "\n",
      "\u001b[A\n",
      "\u001b[A\n",
      "\u001b[A\n",
      "\u001b[A\n",
      "\u001b[A\n",
      "\u001b[A\n",
      "100%|██████████| 165/165 [00:00<00:00, 247.25it/s]\n"
     ]
    },
    {
     "name": "stdout",
     "output_type": "stream",
     "text": [
      "INFO: P [MainThread] 2025-01-28 01:41:24,597 plantseg.functionals.prediction.prediction - Zoo prediction: Running model from PlantSeg official zoo.\n"
     ]
    },
    {
     "name": "stderr",
     "output_type": "stream",
     "text": [
      "/space/alireza/tseg/.conda/lib/python3.11/site-packages/plantseg/io/tiff.py:114: UserWarning: No metadata found.\n",
      "  warnings.warn(\"No metadata found.\")\n"
     ]
    },
    {
     "name": "stdout",
     "output_type": "stream",
     "text": [
      "INFO: P [MainThread] 2025-01-28 01:41:24,624 plantseg.functionals.prediction.prediction - Computing theoretical minimum halo from model.\n",
      "INFO: P [MainThread] 2025-01-28 01:41:24,624 plantseg.functionals.prediction.prediction - For raw in shape (520, 696): set patch shape (1, 64, 64), set halo shape (0, 44, 44)\n",
      "INFO: P [MainThread] 2025-01-28 01:41:24,632 plantseg.functionals.prediction.utils.array_predictor - Using batch size of 1 for prediction\n"
     ]
    },
    {
     "name": "stderr",
     "output_type": "stream",
     "text": [
      "\n",
      "\u001b[A\n",
      "\u001b[A\n",
      "\u001b[A\n",
      "\u001b[A\n",
      "100%|██████████| 165/165 [00:00<00:00, 404.41it/s]\n"
     ]
    },
    {
     "name": "stdout",
     "output_type": "stream",
     "text": [
      "INFO: P [MainThread] 2025-01-28 01:41:25,080 plantseg.functionals.prediction.prediction - Zoo prediction: Running model from PlantSeg official zoo.\n",
      "INFO: P [MainThread] 2025-01-28 01:41:25,113 plantseg.functionals.prediction.prediction - Computing theoretical minimum halo from model.\n",
      "INFO: P [MainThread] 2025-01-28 01:41:25,113 plantseg.functionals.prediction.prediction - For raw in shape (520, 696): set patch shape (1, 64, 64), set halo shape (0, 44, 44)\n",
      "INFO: P [MainThread] 2025-01-28 01:41:25,120 plantseg.functionals.prediction.utils.array_predictor - Using batch size of 1 for prediction\n"
     ]
    },
    {
     "name": "stderr",
     "output_type": "stream",
     "text": [
      "/space/alireza/tseg/.conda/lib/python3.11/site-packages/plantseg/io/tiff.py:114: UserWarning: No metadata found.\n",
      "  warnings.warn(\"No metadata found.\")\n",
      "\n",
      "\u001b[A\n",
      "\u001b[A\n",
      "\u001b[A\n",
      "\u001b[A\n",
      "100%|██████████| 165/165 [00:00<00:00, 403.96it/s]\n",
      "Processing dataset:  81%|████████  | 81/100 [06:42<01:20,  4.24s/it]"
     ]
    },
    {
     "name": "stdout",
     "output_type": "stream",
     "text": [
      "INFO: P [MainThread] 2025-01-28 01:41:25,570 plantseg.functionals.prediction.prediction - Zoo prediction: Running model from PlantSeg official zoo.\n",
      "INFO: P [MainThread] 2025-01-28 01:41:25,626 plantseg.functionals.prediction.prediction - Computing theoretical minimum halo from model.\n",
      "INFO: P [MainThread] 2025-01-28 01:41:25,626 plantseg.functionals.prediction.prediction - For raw in shape (520, 696): set patch shape (1, 64, 64), set halo shape (0, 44, 44)\n"
     ]
    },
    {
     "name": "stderr",
     "output_type": "stream",
     "text": [
      "/space/alireza/tseg/.conda/lib/python3.11/site-packages/plantseg/io/tiff.py:114: UserWarning: No metadata found.\n",
      "  warnings.warn(\"No metadata found.\")\n"
     ]
    },
    {
     "name": "stdout",
     "output_type": "stream",
     "text": [
      "INFO: P [MainThread] 2025-01-28 01:41:25,640 plantseg.functionals.prediction.utils.array_predictor - Using batch size of 1 for prediction\n"
     ]
    },
    {
     "name": "stderr",
     "output_type": "stream",
     "text": [
      "\n",
      "\u001b[A\n",
      "\u001b[A\n",
      "\u001b[A\n",
      "\u001b[A\n",
      "\u001b[A\n",
      "\u001b[A\n",
      "100%|██████████| 165/165 [00:00<00:00, 247.56it/s]\n"
     ]
    },
    {
     "name": "stdout",
     "output_type": "stream",
     "text": [
      "INFO: P [MainThread] 2025-01-28 01:41:26,346 plantseg.functionals.prediction.prediction - Zoo prediction: Running model from PlantSeg official zoo.\n"
     ]
    },
    {
     "name": "stderr",
     "output_type": "stream",
     "text": [
      "/space/alireza/tseg/.conda/lib/python3.11/site-packages/plantseg/io/tiff.py:114: UserWarning: No metadata found.\n",
      "  warnings.warn(\"No metadata found.\")\n"
     ]
    },
    {
     "name": "stdout",
     "output_type": "stream",
     "text": [
      "INFO: P [MainThread] 2025-01-28 01:41:26,402 plantseg.functionals.prediction.prediction - Computing theoretical minimum halo from model.\n",
      "INFO: P [MainThread] 2025-01-28 01:41:26,403 plantseg.functionals.prediction.prediction - For raw in shape (520, 696): set patch shape (1, 64, 64), set halo shape (0, 44, 44)\n",
      "INFO: P [MainThread] 2025-01-28 01:41:26,416 plantseg.functionals.prediction.utils.array_predictor - Using batch size of 1 for prediction\n"
     ]
    },
    {
     "name": "stderr",
     "output_type": "stream",
     "text": [
      "\n",
      "\u001b[A\n",
      "\u001b[A\n",
      "\u001b[A\n",
      "\u001b[A\n",
      "\u001b[A\n",
      "\u001b[A\n",
      "100%|██████████| 165/165 [00:00<00:00, 247.01it/s]\n"
     ]
    },
    {
     "name": "stdout",
     "output_type": "stream",
     "text": [
      "INFO: P [MainThread] 2025-01-28 01:41:27,124 plantseg.functionals.prediction.prediction - Zoo prediction: Running model from PlantSeg official zoo.\n"
     ]
    },
    {
     "name": "stderr",
     "output_type": "stream",
     "text": [
      "/space/alireza/tseg/.conda/lib/python3.11/site-packages/plantseg/io/tiff.py:114: UserWarning: No metadata found.\n",
      "  warnings.warn(\"No metadata found.\")\n"
     ]
    },
    {
     "name": "stdout",
     "output_type": "stream",
     "text": [
      "INFO: P [MainThread] 2025-01-28 01:41:27,150 plantseg.functionals.prediction.prediction - Computing theoretical minimum halo from model.\n",
      "INFO: P [MainThread] 2025-01-28 01:41:27,151 plantseg.functionals.prediction.prediction - For raw in shape (520, 696): set patch shape (1, 64, 64), set halo shape (0, 44, 44)\n",
      "INFO: P [MainThread] 2025-01-28 01:41:27,159 plantseg.functionals.prediction.utils.array_predictor - Using batch size of 1 for prediction\n"
     ]
    },
    {
     "name": "stderr",
     "output_type": "stream",
     "text": [
      "\n",
      "\u001b[A\n",
      "\u001b[A\n",
      "\u001b[A\n",
      "\u001b[A\n",
      "100%|██████████| 165/165 [00:00<00:00, 404.15it/s]\n"
     ]
    },
    {
     "name": "stdout",
     "output_type": "stream",
     "text": [
      "INFO: P [MainThread] 2025-01-28 01:41:27,607 plantseg.functionals.prediction.prediction - Zoo prediction: Running model from PlantSeg official zoo.\n",
      "INFO: P [MainThread] 2025-01-28 01:41:27,640 plantseg.functionals.prediction.prediction - Computing theoretical minimum halo from model.\n",
      "INFO: P [MainThread] 2025-01-28 01:41:27,641 plantseg.functionals.prediction.prediction - For raw in shape (520, 696): set patch shape (1, 64, 64), set halo shape (0, 44, 44)\n",
      "INFO: P [MainThread] 2025-01-28 01:41:27,647 plantseg.functionals.prediction.utils.array_predictor - Using batch size of 1 for prediction\n"
     ]
    },
    {
     "name": "stderr",
     "output_type": "stream",
     "text": [
      "/space/alireza/tseg/.conda/lib/python3.11/site-packages/plantseg/io/tiff.py:114: UserWarning: No metadata found.\n",
      "  warnings.warn(\"No metadata found.\")\n",
      "\n",
      "\u001b[A\n",
      "\u001b[A\n",
      "\u001b[A\n",
      "\u001b[A\n",
      "100%|██████████| 165/165 [00:00<00:00, 403.42it/s]\n",
      "Processing dataset:  82%|████████▏ | 82/100 [06:44<01:07,  3.72s/it]"
     ]
    },
    {
     "name": "stdout",
     "output_type": "stream",
     "text": [
      "INFO: P [MainThread] 2025-01-28 01:41:28,098 plantseg.functionals.prediction.prediction - Zoo prediction: Running model from PlantSeg official zoo.\n",
      "INFO: P [MainThread] 2025-01-28 01:41:28,153 plantseg.functionals.prediction.prediction - Computing theoretical minimum halo from model.\n",
      "INFO: P [MainThread] 2025-01-28 01:41:28,154 plantseg.functionals.prediction.prediction - For raw in shape (520, 696): set patch shape (1, 64, 64), set halo shape (0, 44, 44)\n"
     ]
    },
    {
     "name": "stderr",
     "output_type": "stream",
     "text": [
      "/space/alireza/tseg/.conda/lib/python3.11/site-packages/plantseg/io/tiff.py:114: UserWarning: No metadata found.\n",
      "  warnings.warn(\"No metadata found.\")\n"
     ]
    },
    {
     "name": "stdout",
     "output_type": "stream",
     "text": [
      "INFO: P [MainThread] 2025-01-28 01:41:28,168 plantseg.functionals.prediction.utils.array_predictor - Using batch size of 1 for prediction\n"
     ]
    },
    {
     "name": "stderr",
     "output_type": "stream",
     "text": [
      "\n",
      "\u001b[A\n",
      "\u001b[A\n",
      "\u001b[A\n",
      "\u001b[A\n",
      "\u001b[A\n",
      "\u001b[A\n",
      "100%|██████████| 165/165 [00:00<00:00, 244.24it/s]\n",
      "/space/alireza/tseg/.conda/lib/python3.11/site-packages/plantseg/io/tiff.py:114: UserWarning: No metadata found.\n",
      "  warnings.warn(\"No metadata found.\")\n"
     ]
    },
    {
     "name": "stdout",
     "output_type": "stream",
     "text": [
      "INFO: P [MainThread] 2025-01-28 01:41:28,886 plantseg.functionals.prediction.prediction - Zoo prediction: Running model from PlantSeg official zoo.\n",
      "INFO: P [MainThread] 2025-01-28 01:41:28,942 plantseg.functionals.prediction.prediction - Computing theoretical minimum halo from model.\n",
      "INFO: P [MainThread] 2025-01-28 01:41:28,943 plantseg.functionals.prediction.prediction - For raw in shape (520, 696): set patch shape (1, 64, 64), set halo shape (0, 44, 44)\n",
      "INFO: P [MainThread] 2025-01-28 01:41:28,956 plantseg.functionals.prediction.utils.array_predictor - Using batch size of 1 for prediction\n"
     ]
    },
    {
     "name": "stderr",
     "output_type": "stream",
     "text": [
      "\n",
      "\u001b[A\n",
      "\u001b[A\n",
      "\u001b[A\n",
      "\u001b[A\n",
      "\u001b[A\n",
      "\u001b[A\n",
      "100%|██████████| 165/165 [00:00<00:00, 244.99it/s]\n"
     ]
    },
    {
     "name": "stdout",
     "output_type": "stream",
     "text": [
      "INFO: P [MainThread] 2025-01-28 01:41:29,672 plantseg.functionals.prediction.prediction - Zoo prediction: Running model from PlantSeg official zoo.\n",
      "INFO: P [MainThread] 2025-01-28 01:41:29,700 plantseg.functionals.prediction.prediction - Computing theoretical minimum halo from model.\n",
      "INFO: P [MainThread] 2025-01-28 01:41:29,700 plantseg.functionals.prediction.prediction - For raw in shape (520, 696): set patch shape (1, 64, 64), set halo shape (0, 44, 44)\n",
      "INFO: P [MainThread] 2025-01-28 01:41:29,708 plantseg.functionals.prediction.utils.array_predictor - Using batch size of 1 for prediction\n"
     ]
    },
    {
     "name": "stderr",
     "output_type": "stream",
     "text": [
      "/space/alireza/tseg/.conda/lib/python3.11/site-packages/plantseg/io/tiff.py:114: UserWarning: No metadata found.\n",
      "  warnings.warn(\"No metadata found.\")\n",
      "\n",
      "\u001b[A\n",
      "\u001b[A\n",
      "\u001b[A\n",
      "\u001b[A\n",
      "100%|██████████| 165/165 [00:00<00:00, 402.50it/s]\n"
     ]
    },
    {
     "name": "stdout",
     "output_type": "stream",
     "text": [
      "INFO: P [MainThread] 2025-01-28 01:41:30,158 plantseg.functionals.prediction.prediction - Zoo prediction: Running model from PlantSeg official zoo.\n",
      "INFO: P [MainThread] 2025-01-28 01:41:30,191 plantseg.functionals.prediction.prediction - Computing theoretical minimum halo from model.\n",
      "INFO: P [MainThread] 2025-01-28 01:41:30,191 plantseg.functionals.prediction.prediction - For raw in shape (520, 696): set patch shape (1, 64, 64), set halo shape (0, 44, 44)\n",
      "INFO: P [MainThread] 2025-01-28 01:41:30,198 plantseg.functionals.prediction.utils.array_predictor - Using batch size of 1 for prediction\n"
     ]
    },
    {
     "name": "stderr",
     "output_type": "stream",
     "text": [
      "/space/alireza/tseg/.conda/lib/python3.11/site-packages/plantseg/io/tiff.py:114: UserWarning: No metadata found.\n",
      "  warnings.warn(\"No metadata found.\")\n",
      "\n",
      "\u001b[A\n",
      "\u001b[A\n",
      "\u001b[A\n",
      "\u001b[A\n",
      "100%|██████████| 165/165 [00:00<00:00, 403.91it/s]\n",
      "Processing dataset:  83%|████████▎ | 83/100 [06:47<00:57,  3.37s/it]"
     ]
    },
    {
     "name": "stdout",
     "output_type": "stream",
     "text": [
      "INFO: P [MainThread] 2025-01-28 01:41:30,648 plantseg.functionals.prediction.prediction - Zoo prediction: Running model from PlantSeg official zoo.\n",
      "INFO: P [MainThread] 2025-01-28 01:41:30,703 plantseg.functionals.prediction.prediction - Computing theoretical minimum halo from model.\n",
      "INFO: P [MainThread] 2025-01-28 01:41:30,704 plantseg.functionals.prediction.prediction - For raw in shape (520, 696): set patch shape (1, 64, 64), set halo shape (0, 44, 44)\n"
     ]
    },
    {
     "name": "stderr",
     "output_type": "stream",
     "text": [
      "/space/alireza/tseg/.conda/lib/python3.11/site-packages/plantseg/io/tiff.py:114: UserWarning: No metadata found.\n",
      "  warnings.warn(\"No metadata found.\")\n"
     ]
    },
    {
     "name": "stdout",
     "output_type": "stream",
     "text": [
      "INFO: P [MainThread] 2025-01-28 01:41:30,718 plantseg.functionals.prediction.utils.array_predictor - Using batch size of 1 for prediction\n"
     ]
    },
    {
     "name": "stderr",
     "output_type": "stream",
     "text": [
      "\n",
      "\u001b[A\n",
      "\u001b[A\n",
      "\u001b[A\n",
      "\u001b[A\n",
      "\u001b[A\n",
      "\u001b[A\n",
      "100%|██████████| 165/165 [00:00<00:00, 247.58it/s]\n"
     ]
    },
    {
     "name": "stdout",
     "output_type": "stream",
     "text": [
      "INFO: P [MainThread] 2025-01-28 01:41:31,424 plantseg.functionals.prediction.prediction - Zoo prediction: Running model from PlantSeg official zoo.\n"
     ]
    },
    {
     "name": "stderr",
     "output_type": "stream",
     "text": [
      "/space/alireza/tseg/.conda/lib/python3.11/site-packages/plantseg/io/tiff.py:114: UserWarning: No metadata found.\n",
      "  warnings.warn(\"No metadata found.\")\n"
     ]
    },
    {
     "name": "stdout",
     "output_type": "stream",
     "text": [
      "INFO: P [MainThread] 2025-01-28 01:41:31,480 plantseg.functionals.prediction.prediction - Computing theoretical minimum halo from model.\n",
      "INFO: P [MainThread] 2025-01-28 01:41:31,481 plantseg.functionals.prediction.prediction - For raw in shape (520, 696): set patch shape (1, 64, 64), set halo shape (0, 44, 44)\n",
      "INFO: P [MainThread] 2025-01-28 01:41:31,494 plantseg.functionals.prediction.utils.array_predictor - Using batch size of 1 for prediction\n"
     ]
    },
    {
     "name": "stderr",
     "output_type": "stream",
     "text": [
      "\n",
      "\u001b[A\n",
      "\u001b[A\n",
      "\u001b[A\n",
      "\u001b[A\n",
      "\u001b[A\n",
      "\u001b[A\n",
      "100%|██████████| 165/165 [00:00<00:00, 247.17it/s]\n"
     ]
    },
    {
     "name": "stdout",
     "output_type": "stream",
     "text": [
      "INFO: P [MainThread] 2025-01-28 01:41:32,201 plantseg.functionals.prediction.prediction - Zoo prediction: Running model from PlantSeg official zoo.\n"
     ]
    },
    {
     "name": "stderr",
     "output_type": "stream",
     "text": [
      "/space/alireza/tseg/.conda/lib/python3.11/site-packages/plantseg/io/tiff.py:114: UserWarning: No metadata found.\n",
      "  warnings.warn(\"No metadata found.\")\n"
     ]
    },
    {
     "name": "stdout",
     "output_type": "stream",
     "text": [
      "INFO: P [MainThread] 2025-01-28 01:41:32,228 plantseg.functionals.prediction.prediction - Computing theoretical minimum halo from model.\n",
      "INFO: P [MainThread] 2025-01-28 01:41:32,229 plantseg.functionals.prediction.prediction - For raw in shape (520, 696): set patch shape (1, 64, 64), set halo shape (0, 44, 44)\n",
      "INFO: P [MainThread] 2025-01-28 01:41:32,237 plantseg.functionals.prediction.utils.array_predictor - Using batch size of 1 for prediction\n"
     ]
    },
    {
     "name": "stderr",
     "output_type": "stream",
     "text": [
      "\n",
      "\u001b[A\n",
      "\u001b[A\n",
      "\u001b[A\n",
      "\u001b[A\n",
      "100%|██████████| 165/165 [00:00<00:00, 403.72it/s]\n"
     ]
    },
    {
     "name": "stdout",
     "output_type": "stream",
     "text": [
      "INFO: P [MainThread] 2025-01-28 01:41:32,685 plantseg.functionals.prediction.prediction - Zoo prediction: Running model from PlantSeg official zoo.\n",
      "INFO: P [MainThread] 2025-01-28 01:41:32,718 plantseg.functionals.prediction.prediction - Computing theoretical minimum halo from model.\n",
      "INFO: P [MainThread] 2025-01-28 01:41:32,718 plantseg.functionals.prediction.prediction - For raw in shape (520, 696): set patch shape (1, 64, 64), set halo shape (0, 44, 44)\n",
      "INFO: P [MainThread] 2025-01-28 01:41:32,725 plantseg.functionals.prediction.utils.array_predictor - Using batch size of 1 for prediction\n"
     ]
    },
    {
     "name": "stderr",
     "output_type": "stream",
     "text": [
      "/space/alireza/tseg/.conda/lib/python3.11/site-packages/plantseg/io/tiff.py:114: UserWarning: No metadata found.\n",
      "  warnings.warn(\"No metadata found.\")\n",
      "\n",
      "\u001b[A\n",
      "\u001b[A\n",
      "\u001b[A\n",
      "\u001b[A\n",
      "100%|██████████| 165/165 [00:00<00:00, 404.33it/s]\n",
      "Processing dataset:  84%|████████▍ | 84/100 [06:49<00:49,  3.12s/it]"
     ]
    },
    {
     "name": "stdout",
     "output_type": "stream",
     "text": [
      "INFO: P [MainThread] 2025-01-28 01:41:33,175 plantseg.functionals.prediction.prediction - Zoo prediction: Running model from PlantSeg official zoo.\n",
      "INFO: P [MainThread] 2025-01-28 01:41:33,231 plantseg.functionals.prediction.prediction - Computing theoretical minimum halo from model.\n",
      "INFO: P [MainThread] 2025-01-28 01:41:33,232 plantseg.functionals.prediction.prediction - For raw in shape (520, 696): set patch shape (1, 64, 64), set halo shape (0, 44, 44)\n"
     ]
    },
    {
     "name": "stderr",
     "output_type": "stream",
     "text": [
      "/space/alireza/tseg/.conda/lib/python3.11/site-packages/plantseg/io/tiff.py:114: UserWarning: No metadata found.\n",
      "  warnings.warn(\"No metadata found.\")\n"
     ]
    },
    {
     "name": "stdout",
     "output_type": "stream",
     "text": [
      "INFO: P [MainThread] 2025-01-28 01:41:33,245 plantseg.functionals.prediction.utils.array_predictor - Using batch size of 1 for prediction\n"
     ]
    },
    {
     "name": "stderr",
     "output_type": "stream",
     "text": [
      "\n",
      "\u001b[A\n",
      "\u001b[A\n",
      "\u001b[A\n",
      "\u001b[A\n",
      "\u001b[A\n",
      "\u001b[A\n",
      "100%|██████████| 165/165 [00:00<00:00, 247.52it/s]\n"
     ]
    },
    {
     "name": "stdout",
     "output_type": "stream",
     "text": [
      "INFO: P [MainThread] 2025-01-28 01:41:33,952 plantseg.functionals.prediction.prediction - Zoo prediction: Running model from PlantSeg official zoo.\n"
     ]
    },
    {
     "name": "stderr",
     "output_type": "stream",
     "text": [
      "/space/alireza/tseg/.conda/lib/python3.11/site-packages/plantseg/io/tiff.py:114: UserWarning: No metadata found.\n",
      "  warnings.warn(\"No metadata found.\")\n"
     ]
    },
    {
     "name": "stdout",
     "output_type": "stream",
     "text": [
      "INFO: P [MainThread] 2025-01-28 01:41:34,007 plantseg.functionals.prediction.prediction - Computing theoretical minimum halo from model.\n",
      "INFO: P [MainThread] 2025-01-28 01:41:34,008 plantseg.functionals.prediction.prediction - For raw in shape (520, 696): set patch shape (1, 64, 64), set halo shape (0, 44, 44)\n",
      "INFO: P [MainThread] 2025-01-28 01:41:34,021 plantseg.functionals.prediction.utils.array_predictor - Using batch size of 1 for prediction\n"
     ]
    },
    {
     "name": "stderr",
     "output_type": "stream",
     "text": [
      "\n",
      "\u001b[A\n",
      "\u001b[A\n",
      "\u001b[A\n",
      "\u001b[A\n",
      "\u001b[A\n",
      "\u001b[A\n",
      "100%|██████████| 165/165 [00:00<00:00, 247.40it/s]\n"
     ]
    },
    {
     "name": "stdout",
     "output_type": "stream",
     "text": [
      "INFO: P [MainThread] 2025-01-28 01:41:34,728 plantseg.functionals.prediction.prediction - Zoo prediction: Running model from PlantSeg official zoo.\n"
     ]
    },
    {
     "name": "stderr",
     "output_type": "stream",
     "text": [
      "/space/alireza/tseg/.conda/lib/python3.11/site-packages/plantseg/io/tiff.py:114: UserWarning: No metadata found.\n",
      "  warnings.warn(\"No metadata found.\")\n"
     ]
    },
    {
     "name": "stdout",
     "output_type": "stream",
     "text": [
      "INFO: P [MainThread] 2025-01-28 01:41:34,755 plantseg.functionals.prediction.prediction - Computing theoretical minimum halo from model.\n",
      "INFO: P [MainThread] 2025-01-28 01:41:34,756 plantseg.functionals.prediction.prediction - For raw in shape (520, 696): set patch shape (1, 64, 64), set halo shape (0, 44, 44)\n",
      "INFO: P [MainThread] 2025-01-28 01:41:34,764 plantseg.functionals.prediction.utils.array_predictor - Using batch size of 1 for prediction\n"
     ]
    },
    {
     "name": "stderr",
     "output_type": "stream",
     "text": [
      "\n",
      "\u001b[A\n",
      "\u001b[A\n",
      "\u001b[A\n",
      "\u001b[A\n",
      "100%|██████████| 165/165 [00:00<00:00, 404.28it/s]\n"
     ]
    },
    {
     "name": "stdout",
     "output_type": "stream",
     "text": [
      "INFO: P [MainThread] 2025-01-28 01:41:35,212 plantseg.functionals.prediction.prediction - Zoo prediction: Running model from PlantSeg official zoo.\n",
      "INFO: P [MainThread] 2025-01-28 01:41:35,245 plantseg.functionals.prediction.prediction - Computing theoretical minimum halo from model.\n",
      "INFO: P [MainThread] 2025-01-28 01:41:35,245 plantseg.functionals.prediction.prediction - For raw in shape (520, 696): set patch shape (1, 64, 64), set halo shape (0, 44, 44)\n",
      "INFO: P [MainThread] 2025-01-28 01:41:35,252 plantseg.functionals.prediction.utils.array_predictor - Using batch size of 1 for prediction\n"
     ]
    },
    {
     "name": "stderr",
     "output_type": "stream",
     "text": [
      "/space/alireza/tseg/.conda/lib/python3.11/site-packages/plantseg/io/tiff.py:114: UserWarning: No metadata found.\n",
      "  warnings.warn(\"No metadata found.\")\n",
      "\n",
      "\u001b[A\n",
      "\u001b[A\n",
      "\u001b[A\n",
      "\u001b[A\n",
      "100%|██████████| 165/165 [00:00<00:00, 403.51it/s]\n",
      "Processing dataset:  85%|████████▌ | 85/100 [06:52<00:44,  2.94s/it]"
     ]
    },
    {
     "name": "stdout",
     "output_type": "stream",
     "text": [
      "INFO: P [MainThread] 2025-01-28 01:41:35,703 plantseg.functionals.prediction.prediction - Zoo prediction: Running model from PlantSeg official zoo.\n",
      "INFO: P [MainThread] 2025-01-28 01:41:35,759 plantseg.functionals.prediction.prediction - Computing theoretical minimum halo from model.\n",
      "INFO: P [MainThread] 2025-01-28 01:41:35,759 plantseg.functionals.prediction.prediction - For raw in shape (520, 696): set patch shape (1, 64, 64), set halo shape (0, 44, 44)\n"
     ]
    },
    {
     "name": "stderr",
     "output_type": "stream",
     "text": [
      "/space/alireza/tseg/.conda/lib/python3.11/site-packages/plantseg/io/tiff.py:114: UserWarning: No metadata found.\n",
      "  warnings.warn(\"No metadata found.\")\n"
     ]
    },
    {
     "name": "stdout",
     "output_type": "stream",
     "text": [
      "INFO: P [MainThread] 2025-01-28 01:41:35,773 plantseg.functionals.prediction.utils.array_predictor - Using batch size of 1 for prediction\n"
     ]
    },
    {
     "name": "stderr",
     "output_type": "stream",
     "text": [
      "\n",
      "\u001b[A\n",
      "\u001b[A\n",
      "\u001b[A\n",
      "\u001b[A\n",
      "\u001b[A\n",
      "\u001b[A\n",
      "100%|██████████| 165/165 [00:00<00:00, 247.65it/s]\n"
     ]
    },
    {
     "name": "stdout",
     "output_type": "stream",
     "text": [
      "INFO: P [MainThread] 2025-01-28 01:41:36,479 plantseg.functionals.prediction.prediction - Zoo prediction: Running model from PlantSeg official zoo.\n"
     ]
    },
    {
     "name": "stderr",
     "output_type": "stream",
     "text": [
      "/space/alireza/tseg/.conda/lib/python3.11/site-packages/plantseg/io/tiff.py:114: UserWarning: No metadata found.\n",
      "  warnings.warn(\"No metadata found.\")\n"
     ]
    },
    {
     "name": "stdout",
     "output_type": "stream",
     "text": [
      "INFO: P [MainThread] 2025-01-28 01:41:36,534 plantseg.functionals.prediction.prediction - Computing theoretical minimum halo from model.\n",
      "INFO: P [MainThread] 2025-01-28 01:41:36,535 plantseg.functionals.prediction.prediction - For raw in shape (520, 696): set patch shape (1, 64, 64), set halo shape (0, 44, 44)\n",
      "INFO: P [MainThread] 2025-01-28 01:41:36,548 plantseg.functionals.prediction.utils.array_predictor - Using batch size of 1 for prediction\n"
     ]
    },
    {
     "name": "stderr",
     "output_type": "stream",
     "text": [
      "\n",
      "\u001b[A\n",
      "\u001b[A\n",
      "\u001b[A\n",
      "\u001b[A\n",
      "\u001b[A\n",
      "\u001b[A\n",
      "100%|██████████| 165/165 [00:00<00:00, 247.38it/s]\n"
     ]
    },
    {
     "name": "stdout",
     "output_type": "stream",
     "text": [
      "INFO: P [MainThread] 2025-01-28 01:41:37,255 plantseg.functionals.prediction.prediction - Zoo prediction: Running model from PlantSeg official zoo.\n"
     ]
    },
    {
     "name": "stderr",
     "output_type": "stream",
     "text": [
      "/space/alireza/tseg/.conda/lib/python3.11/site-packages/plantseg/io/tiff.py:114: UserWarning: No metadata found.\n",
      "  warnings.warn(\"No metadata found.\")\n"
     ]
    },
    {
     "name": "stdout",
     "output_type": "stream",
     "text": [
      "INFO: P [MainThread] 2025-01-28 01:41:37,282 plantseg.functionals.prediction.prediction - Computing theoretical minimum halo from model.\n",
      "INFO: P [MainThread] 2025-01-28 01:41:37,282 plantseg.functionals.prediction.prediction - For raw in shape (520, 696): set patch shape (1, 64, 64), set halo shape (0, 44, 44)\n",
      "INFO: P [MainThread] 2025-01-28 01:41:37,290 plantseg.functionals.prediction.utils.array_predictor - Using batch size of 1 for prediction\n"
     ]
    },
    {
     "name": "stderr",
     "output_type": "stream",
     "text": [
      "\n",
      "\u001b[A\n",
      "\u001b[A\n",
      "\u001b[A\n",
      "\u001b[A\n",
      "100%|██████████| 165/165 [00:00<00:00, 404.18it/s]\n"
     ]
    },
    {
     "name": "stdout",
     "output_type": "stream",
     "text": [
      "INFO: P [MainThread] 2025-01-28 01:41:37,739 plantseg.functionals.prediction.prediction - Zoo prediction: Running model from PlantSeg official zoo.\n",
      "INFO: P [MainThread] 2025-01-28 01:41:37,771 plantseg.functionals.prediction.prediction - Computing theoretical minimum halo from model.\n",
      "INFO: P [MainThread] 2025-01-28 01:41:37,772 plantseg.functionals.prediction.prediction - For raw in shape (520, 696): set patch shape (1, 64, 64), set halo shape (0, 44, 44)\n",
      "INFO: P [MainThread] 2025-01-28 01:41:37,778 plantseg.functionals.prediction.utils.array_predictor - Using batch size of 1 for prediction\n"
     ]
    },
    {
     "name": "stderr",
     "output_type": "stream",
     "text": [
      "/space/alireza/tseg/.conda/lib/python3.11/site-packages/plantseg/io/tiff.py:114: UserWarning: No metadata found.\n",
      "  warnings.warn(\"No metadata found.\")\n",
      "\n",
      "\u001b[A\n",
      "\u001b[A\n",
      "\u001b[A\n",
      "\u001b[A\n",
      "100%|██████████| 165/165 [00:00<00:00, 404.13it/s]\n",
      "Processing dataset:  86%|████████▌ | 86/100 [06:54<00:39,  2.82s/it]"
     ]
    },
    {
     "name": "stdout",
     "output_type": "stream",
     "text": [
      "INFO: P [MainThread] 2025-01-28 01:41:38,229 plantseg.functionals.prediction.prediction - Zoo prediction: Running model from PlantSeg official zoo.\n",
      "INFO: P [MainThread] 2025-01-28 01:41:38,284 plantseg.functionals.prediction.prediction - Computing theoretical minimum halo from model.\n",
      "INFO: P [MainThread] 2025-01-28 01:41:38,285 plantseg.functionals.prediction.prediction - For raw in shape (520, 696): set patch shape (1, 64, 64), set halo shape (0, 44, 44)\n"
     ]
    },
    {
     "name": "stderr",
     "output_type": "stream",
     "text": [
      "/space/alireza/tseg/.conda/lib/python3.11/site-packages/plantseg/io/tiff.py:114: UserWarning: No metadata found.\n",
      "  warnings.warn(\"No metadata found.\")\n"
     ]
    },
    {
     "name": "stdout",
     "output_type": "stream",
     "text": [
      "INFO: P [MainThread] 2025-01-28 01:41:38,298 plantseg.functionals.prediction.utils.array_predictor - Using batch size of 1 for prediction\n"
     ]
    },
    {
     "name": "stderr",
     "output_type": "stream",
     "text": [
      "\n",
      "\u001b[A\n",
      "\u001b[A\n",
      "\u001b[A\n",
      "\u001b[A\n",
      "\u001b[A\n",
      "\u001b[A\n",
      "100%|██████████| 165/165 [00:00<00:00, 247.74it/s]\n"
     ]
    },
    {
     "name": "stdout",
     "output_type": "stream",
     "text": [
      "INFO: P [MainThread] 2025-01-28 01:41:39,005 plantseg.functionals.prediction.prediction - Zoo prediction: Running model from PlantSeg official zoo.\n"
     ]
    },
    {
     "name": "stderr",
     "output_type": "stream",
     "text": [
      "/space/alireza/tseg/.conda/lib/python3.11/site-packages/plantseg/io/tiff.py:114: UserWarning: No metadata found.\n",
      "  warnings.warn(\"No metadata found.\")\n"
     ]
    },
    {
     "name": "stdout",
     "output_type": "stream",
     "text": [
      "INFO: P [MainThread] 2025-01-28 01:41:39,060 plantseg.functionals.prediction.prediction - Computing theoretical minimum halo from model.\n",
      "INFO: P [MainThread] 2025-01-28 01:41:39,061 plantseg.functionals.prediction.prediction - For raw in shape (520, 696): set patch shape (1, 64, 64), set halo shape (0, 44, 44)\n",
      "INFO: P [MainThread] 2025-01-28 01:41:39,074 plantseg.functionals.prediction.utils.array_predictor - Using batch size of 1 for prediction\n"
     ]
    },
    {
     "name": "stderr",
     "output_type": "stream",
     "text": [
      "\n",
      "\u001b[A\n",
      "\u001b[A\n",
      "\u001b[A\n",
      "\u001b[A\n",
      "\u001b[A\n",
      "\u001b[A\n",
      "100%|██████████| 165/165 [00:00<00:00, 245.55it/s]\n",
      "/space/alireza/tseg/.conda/lib/python3.11/site-packages/plantseg/io/tiff.py:114: UserWarning: No metadata found.\n",
      "  warnings.warn(\"No metadata found.\")\n"
     ]
    },
    {
     "name": "stdout",
     "output_type": "stream",
     "text": [
      "INFO: P [MainThread] 2025-01-28 01:41:39,789 plantseg.functionals.prediction.prediction - Zoo prediction: Running model from PlantSeg official zoo.\n",
      "INFO: P [MainThread] 2025-01-28 01:41:39,816 plantseg.functionals.prediction.prediction - Computing theoretical minimum halo from model.\n",
      "INFO: P [MainThread] 2025-01-28 01:41:39,816 plantseg.functionals.prediction.prediction - For raw in shape (520, 696): set patch shape (1, 64, 64), set halo shape (0, 44, 44)\n",
      "INFO: P [MainThread] 2025-01-28 01:41:39,825 plantseg.functionals.prediction.utils.array_predictor - Using batch size of 1 for prediction\n"
     ]
    },
    {
     "name": "stderr",
     "output_type": "stream",
     "text": [
      "\n",
      "\u001b[A\n",
      "\u001b[A\n",
      "\u001b[A\n",
      "\u001b[A\n",
      "100%|██████████| 165/165 [00:00<00:00, 404.62it/s]\n"
     ]
    },
    {
     "name": "stdout",
     "output_type": "stream",
     "text": [
      "INFO: P [MainThread] 2025-01-28 01:41:40,272 plantseg.functionals.prediction.prediction - Zoo prediction: Running model from PlantSeg official zoo.\n",
      "INFO: P [MainThread] 2025-01-28 01:41:40,305 plantseg.functionals.prediction.prediction - Computing theoretical minimum halo from model.\n",
      "INFO: P [MainThread] 2025-01-28 01:41:40,305 plantseg.functionals.prediction.prediction - For raw in shape (520, 696): set patch shape (1, 64, 64), set halo shape (0, 44, 44)\n",
      "INFO: P [MainThread] 2025-01-28 01:41:40,312 plantseg.functionals.prediction.utils.array_predictor - Using batch size of 1 for prediction\n"
     ]
    },
    {
     "name": "stderr",
     "output_type": "stream",
     "text": [
      "/space/alireza/tseg/.conda/lib/python3.11/site-packages/plantseg/io/tiff.py:114: UserWarning: No metadata found.\n",
      "  warnings.warn(\"No metadata found.\")\n",
      "\n",
      "\u001b[A\n",
      "\u001b[A\n",
      "\u001b[A\n",
      "\u001b[A\n",
      "100%|██████████| 165/165 [00:00<00:00, 404.44it/s]\n",
      "Processing dataset:  87%|████████▋ | 87/100 [06:57<00:35,  2.73s/it]"
     ]
    },
    {
     "name": "stdout",
     "output_type": "stream",
     "text": [
      "INFO: P [MainThread] 2025-01-28 01:41:40,763 plantseg.functionals.prediction.prediction - Zoo prediction: Running model from PlantSeg official zoo.\n",
      "INFO: P [MainThread] 2025-01-28 01:41:40,818 plantseg.functionals.prediction.prediction - Computing theoretical minimum halo from model.\n",
      "INFO: P [MainThread] 2025-01-28 01:41:40,819 plantseg.functionals.prediction.prediction - For raw in shape (520, 696): set patch shape (1, 64, 64), set halo shape (0, 44, 44)\n"
     ]
    },
    {
     "name": "stderr",
     "output_type": "stream",
     "text": [
      "/space/alireza/tseg/.conda/lib/python3.11/site-packages/plantseg/io/tiff.py:114: UserWarning: No metadata found.\n",
      "  warnings.warn(\"No metadata found.\")\n"
     ]
    },
    {
     "name": "stdout",
     "output_type": "stream",
     "text": [
      "INFO: P [MainThread] 2025-01-28 01:41:40,833 plantseg.functionals.prediction.utils.array_predictor - Using batch size of 1 for prediction\n"
     ]
    },
    {
     "name": "stderr",
     "output_type": "stream",
     "text": [
      "\n",
      "\u001b[A\n",
      "\u001b[A\n",
      "\u001b[A\n",
      "\u001b[A\n",
      "\u001b[A\n",
      "\u001b[A\n",
      "100%|██████████| 165/165 [00:00<00:00, 247.57it/s]\n"
     ]
    },
    {
     "name": "stdout",
     "output_type": "stream",
     "text": [
      "INFO: P [MainThread] 2025-01-28 01:41:41,539 plantseg.functionals.prediction.prediction - Zoo prediction: Running model from PlantSeg official zoo.\n"
     ]
    },
    {
     "name": "stderr",
     "output_type": "stream",
     "text": [
      "/space/alireza/tseg/.conda/lib/python3.11/site-packages/plantseg/io/tiff.py:114: UserWarning: No metadata found.\n",
      "  warnings.warn(\"No metadata found.\")\n"
     ]
    },
    {
     "name": "stdout",
     "output_type": "stream",
     "text": [
      "INFO: P [MainThread] 2025-01-28 01:41:41,595 plantseg.functionals.prediction.prediction - Computing theoretical minimum halo from model.\n",
      "INFO: P [MainThread] 2025-01-28 01:41:41,595 plantseg.functionals.prediction.prediction - For raw in shape (520, 696): set patch shape (1, 64, 64), set halo shape (0, 44, 44)\n",
      "INFO: P [MainThread] 2025-01-28 01:41:41,609 plantseg.functionals.prediction.utils.array_predictor - Using batch size of 1 for prediction\n"
     ]
    },
    {
     "name": "stderr",
     "output_type": "stream",
     "text": [
      "\n",
      "\u001b[A\n",
      "\u001b[A\n",
      "\u001b[A\n",
      "\u001b[A\n",
      "\u001b[A\n",
      "\u001b[A\n",
      "100%|██████████| 165/165 [00:00<00:00, 247.53it/s]\n"
     ]
    },
    {
     "name": "stdout",
     "output_type": "stream",
     "text": [
      "INFO: P [MainThread] 2025-01-28 01:41:42,316 plantseg.functionals.prediction.prediction - Zoo prediction: Running model from PlantSeg official zoo.\n"
     ]
    },
    {
     "name": "stderr",
     "output_type": "stream",
     "text": [
      "/space/alireza/tseg/.conda/lib/python3.11/site-packages/plantseg/io/tiff.py:114: UserWarning: No metadata found.\n",
      "  warnings.warn(\"No metadata found.\")\n"
     ]
    },
    {
     "name": "stdout",
     "output_type": "stream",
     "text": [
      "INFO: P [MainThread] 2025-01-28 01:41:42,343 plantseg.functionals.prediction.prediction - Computing theoretical minimum halo from model.\n",
      "INFO: P [MainThread] 2025-01-28 01:41:42,343 plantseg.functionals.prediction.prediction - For raw in shape (520, 696): set patch shape (1, 64, 64), set halo shape (0, 44, 44)\n",
      "INFO: P [MainThread] 2025-01-28 01:41:42,351 plantseg.functionals.prediction.utils.array_predictor - Using batch size of 1 for prediction\n"
     ]
    },
    {
     "name": "stderr",
     "output_type": "stream",
     "text": [
      "\n",
      "\u001b[A\n",
      "\u001b[A\n",
      "\u001b[A\n",
      "\u001b[A\n",
      "100%|██████████| 165/165 [00:00<00:00, 404.20it/s]\n"
     ]
    },
    {
     "name": "stdout",
     "output_type": "stream",
     "text": [
      "INFO: P [MainThread] 2025-01-28 01:41:42,799 plantseg.functionals.prediction.prediction - Zoo prediction: Running model from PlantSeg official zoo.\n",
      "INFO: P [MainThread] 2025-01-28 01:41:42,832 plantseg.functionals.prediction.prediction - Computing theoretical minimum halo from model.\n",
      "INFO: P [MainThread] 2025-01-28 01:41:42,832 plantseg.functionals.prediction.prediction - For raw in shape (520, 696): set patch shape (1, 64, 64), set halo shape (0, 44, 44)\n",
      "INFO: P [MainThread] 2025-01-28 01:41:42,839 plantseg.functionals.prediction.utils.array_predictor - Using batch size of 1 for prediction\n"
     ]
    },
    {
     "name": "stderr",
     "output_type": "stream",
     "text": [
      "/space/alireza/tseg/.conda/lib/python3.11/site-packages/plantseg/io/tiff.py:114: UserWarning: No metadata found.\n",
      "  warnings.warn(\"No metadata found.\")\n",
      "\n",
      "\u001b[A\n",
      "\u001b[A\n",
      "\u001b[A\n",
      "\u001b[A\n",
      "100%|██████████| 165/165 [00:00<00:00, 403.93it/s]\n",
      "Processing dataset:  88%|████████▊ | 88/100 [07:00<00:32,  2.67s/it]"
     ]
    },
    {
     "name": "stdout",
     "output_type": "stream",
     "text": [
      "INFO: P [MainThread] 2025-01-28 01:41:43,290 plantseg.functionals.prediction.prediction - Zoo prediction: Running model from PlantSeg official zoo.\n",
      "INFO: P [MainThread] 2025-01-28 01:41:43,345 plantseg.functionals.prediction.prediction - Computing theoretical minimum halo from model.\n",
      "INFO: P [MainThread] 2025-01-28 01:41:43,346 plantseg.functionals.prediction.prediction - For raw in shape (520, 696): set patch shape (1, 64, 64), set halo shape (0, 44, 44)\n"
     ]
    },
    {
     "name": "stderr",
     "output_type": "stream",
     "text": [
      "/space/alireza/tseg/.conda/lib/python3.11/site-packages/plantseg/io/tiff.py:114: UserWarning: No metadata found.\n",
      "  warnings.warn(\"No metadata found.\")\n"
     ]
    },
    {
     "name": "stdout",
     "output_type": "stream",
     "text": [
      "INFO: P [MainThread] 2025-01-28 01:41:43,360 plantseg.functionals.prediction.utils.array_predictor - Using batch size of 1 for prediction\n"
     ]
    },
    {
     "name": "stderr",
     "output_type": "stream",
     "text": [
      "\n",
      "\u001b[A\n",
      "\u001b[A\n",
      "\u001b[A\n",
      "\u001b[A\n",
      "\u001b[A\n",
      "\u001b[A\n",
      "100%|██████████| 165/165 [00:00<00:00, 245.72it/s]\n"
     ]
    },
    {
     "name": "stdout",
     "output_type": "stream",
     "text": [
      "INFO: P [MainThread] 2025-01-28 01:41:44,074 plantseg.functionals.prediction.prediction - Zoo prediction: Running model from PlantSeg official zoo.\n",
      "INFO: P [MainThread] 2025-01-28 01:41:44,130 plantseg.functionals.prediction.prediction - Computing theoretical minimum halo from model.\n",
      "INFO: P [MainThread] 2025-01-28 01:41:44,131 plantseg.functionals.prediction.prediction - For raw in shape (520, 696): set patch shape (1, 64, 64), set halo shape (0, 44, 44)\n",
      "INFO: P [MainThread] 2025-01-28 01:41:44,144 plantseg.functionals.prediction.utils.array_predictor - Using batch size of 1 for prediction\n"
     ]
    },
    {
     "name": "stderr",
     "output_type": "stream",
     "text": [
      "/space/alireza/tseg/.conda/lib/python3.11/site-packages/plantseg/io/tiff.py:114: UserWarning: No metadata found.\n",
      "  warnings.warn(\"No metadata found.\")\n",
      "\n",
      "\u001b[A\n",
      "\u001b[A\n",
      "\u001b[A\n",
      "\u001b[A\n",
      "\u001b[A\n",
      "\u001b[A\n",
      "100%|██████████| 165/165 [00:00<00:00, 247.28it/s]\n"
     ]
    },
    {
     "name": "stdout",
     "output_type": "stream",
     "text": [
      "INFO: P [MainThread] 2025-01-28 01:41:44,852 plantseg.functionals.prediction.prediction - Zoo prediction: Running model from PlantSeg official zoo.\n"
     ]
    },
    {
     "name": "stderr",
     "output_type": "stream",
     "text": [
      "/space/alireza/tseg/.conda/lib/python3.11/site-packages/plantseg/io/tiff.py:114: UserWarning: No metadata found.\n",
      "  warnings.warn(\"No metadata found.\")\n"
     ]
    },
    {
     "name": "stdout",
     "output_type": "stream",
     "text": [
      "INFO: P [MainThread] 2025-01-28 01:41:44,879 plantseg.functionals.prediction.prediction - Computing theoretical minimum halo from model.\n",
      "INFO: P [MainThread] 2025-01-28 01:41:44,880 plantseg.functionals.prediction.prediction - For raw in shape (520, 696): set patch shape (1, 64, 64), set halo shape (0, 44, 44)\n",
      "INFO: P [MainThread] 2025-01-28 01:41:44,888 plantseg.functionals.prediction.utils.array_predictor - Using batch size of 1 for prediction\n"
     ]
    },
    {
     "name": "stderr",
     "output_type": "stream",
     "text": [
      "\n",
      "\u001b[A\n",
      "\u001b[A\n",
      "\u001b[A\n",
      "\u001b[A\n",
      "100%|██████████| 165/165 [00:00<00:00, 401.42it/s]\n"
     ]
    },
    {
     "name": "stdout",
     "output_type": "stream",
     "text": [
      "INFO: P [MainThread] 2025-01-28 01:41:45,341 plantseg.functionals.prediction.prediction - Zoo prediction: Running model from PlantSeg official zoo.\n",
      "INFO: P [MainThread] 2025-01-28 01:41:45,374 plantseg.functionals.prediction.prediction - Computing theoretical minimum halo from model.\n",
      "INFO: P [MainThread] 2025-01-28 01:41:45,375 plantseg.functionals.prediction.prediction - For raw in shape (520, 696): set patch shape (1, 64, 64), set halo shape (0, 44, 44)\n",
      "INFO: P [MainThread] 2025-01-28 01:41:45,382 plantseg.functionals.prediction.utils.array_predictor - Using batch size of 1 for prediction\n"
     ]
    },
    {
     "name": "stderr",
     "output_type": "stream",
     "text": [
      "/space/alireza/tseg/.conda/lib/python3.11/site-packages/plantseg/io/tiff.py:114: UserWarning: No metadata found.\n",
      "  warnings.warn(\"No metadata found.\")\n",
      "\n",
      "\u001b[A\n",
      "\u001b[A\n",
      "\u001b[A\n",
      "\u001b[A\n",
      "100%|██████████| 165/165 [00:00<00:00, 403.44it/s]\n",
      "Processing dataset:  89%|████████▉ | 89/100 [07:02<00:28,  2.63s/it]"
     ]
    },
    {
     "name": "stdout",
     "output_type": "stream",
     "text": [
      "INFO: P [MainThread] 2025-01-28 01:41:45,834 plantseg.functionals.prediction.prediction - Zoo prediction: Running model from PlantSeg official zoo.\n"
     ]
    },
    {
     "name": "stderr",
     "output_type": "stream",
     "text": [
      "/space/alireza/tseg/.conda/lib/python3.11/site-packages/plantseg/io/tiff.py:114: UserWarning: No metadata found.\n",
      "  warnings.warn(\"No metadata found.\")\n"
     ]
    },
    {
     "name": "stdout",
     "output_type": "stream",
     "text": [
      "INFO: P [MainThread] 2025-01-28 01:41:45,894 plantseg.functionals.prediction.prediction - Computing theoretical minimum halo from model.\n",
      "INFO: P [MainThread] 2025-01-28 01:41:45,895 plantseg.functionals.prediction.prediction - For raw in shape (520, 696): set patch shape (1, 64, 64), set halo shape (0, 44, 44)\n",
      "INFO: P [MainThread] 2025-01-28 01:41:45,909 plantseg.functionals.prediction.utils.array_predictor - Using batch size of 1 for prediction\n"
     ]
    },
    {
     "name": "stderr",
     "output_type": "stream",
     "text": [
      "\n",
      "\u001b[A\n",
      "\u001b[A\n",
      "\u001b[A\n",
      "\u001b[A\n",
      "\u001b[A\n",
      "\u001b[A\n",
      "100%|██████████| 165/165 [00:00<00:00, 247.71it/s]\n"
     ]
    },
    {
     "name": "stdout",
     "output_type": "stream",
     "text": [
      "INFO: P [MainThread] 2025-01-28 01:41:46,615 plantseg.functionals.prediction.prediction - Zoo prediction: Running model from PlantSeg official zoo.\n"
     ]
    },
    {
     "name": "stderr",
     "output_type": "stream",
     "text": [
      "/space/alireza/tseg/.conda/lib/python3.11/site-packages/plantseg/io/tiff.py:114: UserWarning: No metadata found.\n",
      "  warnings.warn(\"No metadata found.\")\n"
     ]
    },
    {
     "name": "stdout",
     "output_type": "stream",
     "text": [
      "INFO: P [MainThread] 2025-01-28 01:41:46,671 plantseg.functionals.prediction.prediction - Computing theoretical minimum halo from model.\n",
      "INFO: P [MainThread] 2025-01-28 01:41:46,672 plantseg.functionals.prediction.prediction - For raw in shape (520, 696): set patch shape (1, 64, 64), set halo shape (0, 44, 44)\n",
      "INFO: P [MainThread] 2025-01-28 01:41:46,685 plantseg.functionals.prediction.utils.array_predictor - Using batch size of 1 for prediction\n"
     ]
    },
    {
     "name": "stderr",
     "output_type": "stream",
     "text": [
      "\n",
      "\u001b[A\n",
      "\u001b[A\n",
      "\u001b[A\n",
      "\u001b[A\n",
      "\u001b[A\n",
      "\u001b[A\n",
      "100%|██████████| 165/165 [00:00<00:00, 247.27it/s]\n"
     ]
    },
    {
     "name": "stdout",
     "output_type": "stream",
     "text": [
      "INFO: P [MainThread] 2025-01-28 01:41:47,393 plantseg.functionals.prediction.prediction - Zoo prediction: Running model from PlantSeg official zoo.\n"
     ]
    },
    {
     "name": "stderr",
     "output_type": "stream",
     "text": [
      "/space/alireza/tseg/.conda/lib/python3.11/site-packages/plantseg/io/tiff.py:114: UserWarning: No metadata found.\n",
      "  warnings.warn(\"No metadata found.\")\n"
     ]
    },
    {
     "name": "stdout",
     "output_type": "stream",
     "text": [
      "INFO: P [MainThread] 2025-01-28 01:41:47,419 plantseg.functionals.prediction.prediction - Computing theoretical minimum halo from model.\n",
      "INFO: P [MainThread] 2025-01-28 01:41:47,420 plantseg.functionals.prediction.prediction - For raw in shape (520, 696): set patch shape (1, 64, 64), set halo shape (0, 44, 44)\n",
      "INFO: P [MainThread] 2025-01-28 01:41:47,428 plantseg.functionals.prediction.utils.array_predictor - Using batch size of 1 for prediction\n"
     ]
    },
    {
     "name": "stderr",
     "output_type": "stream",
     "text": [
      "\n",
      "\u001b[A\n",
      "\u001b[A\n",
      "\u001b[A\n",
      "\u001b[A\n",
      "100%|██████████| 165/165 [00:00<00:00, 403.80it/s]\n"
     ]
    },
    {
     "name": "stdout",
     "output_type": "stream",
     "text": [
      "INFO: P [MainThread] 2025-01-28 01:41:47,877 plantseg.functionals.prediction.prediction - Zoo prediction: Running model from PlantSeg official zoo.\n",
      "INFO: P [MainThread] 2025-01-28 01:41:47,909 plantseg.functionals.prediction.prediction - Computing theoretical minimum halo from model.\n",
      "INFO: P [MainThread] 2025-01-28 01:41:47,910 plantseg.functionals.prediction.prediction - For raw in shape (520, 696): set patch shape (1, 64, 64), set halo shape (0, 44, 44)\n",
      "INFO: P [MainThread] 2025-01-28 01:41:47,917 plantseg.functionals.prediction.utils.array_predictor - Using batch size of 1 for prediction\n"
     ]
    },
    {
     "name": "stderr",
     "output_type": "stream",
     "text": [
      "/space/alireza/tseg/.conda/lib/python3.11/site-packages/plantseg/io/tiff.py:114: UserWarning: No metadata found.\n",
      "  warnings.warn(\"No metadata found.\")\n",
      "\n",
      "\u001b[A\n",
      "\u001b[A\n",
      "\u001b[A\n",
      "\u001b[A\n",
      "100%|██████████| 165/165 [00:00<00:00, 403.75it/s]\n",
      "Processing dataset:  90%|█████████ | 90/100 [07:05<00:26,  2.60s/it]"
     ]
    },
    {
     "name": "stdout",
     "output_type": "stream",
     "text": [
      "INFO: P [MainThread] 2025-01-28 01:41:48,369 plantseg.functionals.prediction.prediction - Zoo prediction: Running model from PlantSeg official zoo.\n",
      "INFO: P [MainThread] 2025-01-28 01:41:48,425 plantseg.functionals.prediction.prediction - Computing theoretical minimum halo from model.\n"
     ]
    },
    {
     "name": "stderr",
     "output_type": "stream",
     "text": [
      "/space/alireza/tseg/.conda/lib/python3.11/site-packages/plantseg/io/tiff.py:114: UserWarning: No metadata found.\n",
      "  warnings.warn(\"No metadata found.\")\n"
     ]
    },
    {
     "name": "stdout",
     "output_type": "stream",
     "text": [
      "INFO: P [MainThread] 2025-01-28 01:41:48,425 plantseg.functionals.prediction.prediction - For raw in shape (576, 720): set patch shape (1, 64, 64), set halo shape (0, 44, 44)\n",
      "INFO: P [MainThread] 2025-01-28 01:41:48,439 plantseg.functionals.prediction.utils.array_predictor - Using batch size of 1 for prediction\n"
     ]
    },
    {
     "name": "stderr",
     "output_type": "stream",
     "text": [
      "\n",
      "\u001b[A\n",
      "\u001b[A\n",
      "\u001b[A\n",
      "\u001b[A\n",
      "\u001b[A\n",
      "\u001b[A\n",
      "\u001b[A\n",
      "100%|██████████| 180/180 [00:00<00:00, 244.97it/s]\n"
     ]
    },
    {
     "name": "stdout",
     "output_type": "stream",
     "text": [
      "INFO: P [MainThread] 2025-01-28 01:41:49,219 plantseg.functionals.prediction.prediction - Zoo prediction: Running model from PlantSeg official zoo.\n"
     ]
    },
    {
     "name": "stderr",
     "output_type": "stream",
     "text": [
      "/space/alireza/tseg/.conda/lib/python3.11/site-packages/plantseg/io/tiff.py:114: UserWarning: No metadata found.\n",
      "  warnings.warn(\"No metadata found.\")\n"
     ]
    },
    {
     "name": "stdout",
     "output_type": "stream",
     "text": [
      "INFO: P [MainThread] 2025-01-28 01:41:49,276 plantseg.functionals.prediction.prediction - Computing theoretical minimum halo from model.\n",
      "INFO: P [MainThread] 2025-01-28 01:41:49,276 plantseg.functionals.prediction.prediction - For raw in shape (576, 720): set patch shape (1, 64, 64), set halo shape (0, 44, 44)\n",
      "INFO: P [MainThread] 2025-01-28 01:41:49,290 plantseg.functionals.prediction.utils.array_predictor - Using batch size of 1 for prediction\n"
     ]
    },
    {
     "name": "stderr",
     "output_type": "stream",
     "text": [
      "\n",
      "\u001b[A\n",
      "\u001b[A\n",
      "\u001b[A\n",
      "\u001b[A\n",
      "\u001b[A\n",
      "\u001b[A\n",
      "\u001b[A\n",
      "100%|██████████| 180/180 [00:00<00:00, 247.06it/s]\n"
     ]
    },
    {
     "name": "stdout",
     "output_type": "stream",
     "text": [
      "INFO: P [MainThread] 2025-01-28 01:41:50,062 plantseg.functionals.prediction.prediction - Zoo prediction: Running model from PlantSeg official zoo.\n",
      "INFO: P [MainThread] 2025-01-28 01:41:50,088 plantseg.functionals.prediction.prediction - Computing theoretical minimum halo from model.\n",
      "INFO: P [MainThread] 2025-01-28 01:41:50,089 plantseg.functionals.prediction.prediction - For raw in shape (576, 720): set patch shape (1, 64, 64), set halo shape (0, 44, 44)\n",
      "INFO: P [MainThread] 2025-01-28 01:41:50,097 plantseg.functionals.prediction.utils.array_predictor - Using batch size of 1 for prediction\n"
     ]
    },
    {
     "name": "stderr",
     "output_type": "stream",
     "text": [
      "/space/alireza/tseg/.conda/lib/python3.11/site-packages/plantseg/io/tiff.py:114: UserWarning: No metadata found.\n",
      "  warnings.warn(\"No metadata found.\")\n",
      "\n",
      "\u001b[A\n",
      "\u001b[A\n",
      "\u001b[A\n",
      "\u001b[A\n",
      "100%|██████████| 180/180 [00:00<00:00, 404.46it/s]\n"
     ]
    },
    {
     "name": "stdout",
     "output_type": "stream",
     "text": [
      "INFO: P [MainThread] 2025-01-28 01:41:50,586 plantseg.functionals.prediction.prediction - Zoo prediction: Running model from PlantSeg official zoo.\n"
     ]
    },
    {
     "name": "stderr",
     "output_type": "stream",
     "text": [
      "/space/alireza/tseg/.conda/lib/python3.11/site-packages/plantseg/io/tiff.py:114: UserWarning: No metadata found.\n",
      "  warnings.warn(\"No metadata found.\")\n"
     ]
    },
    {
     "name": "stdout",
     "output_type": "stream",
     "text": [
      "INFO: P [MainThread] 2025-01-28 01:41:50,618 plantseg.functionals.prediction.prediction - Computing theoretical minimum halo from model.\n",
      "INFO: P [MainThread] 2025-01-28 01:41:50,619 plantseg.functionals.prediction.prediction - For raw in shape (576, 720): set patch shape (1, 64, 64), set halo shape (0, 44, 44)\n",
      "INFO: P [MainThread] 2025-01-28 01:41:50,626 plantseg.functionals.prediction.utils.array_predictor - Using batch size of 1 for prediction\n"
     ]
    },
    {
     "name": "stderr",
     "output_type": "stream",
     "text": [
      "\n",
      "\u001b[A\n",
      "\u001b[A\n",
      "\u001b[A\n",
      "\u001b[A\n",
      "100%|██████████| 180/180 [00:00<00:00, 403.80it/s]\n",
      "Processing dataset:  91%|█████████ | 91/100 [07:07<00:23,  2.65s/it]"
     ]
    },
    {
     "name": "stdout",
     "output_type": "stream",
     "text": [
      "INFO: P [MainThread] 2025-01-28 01:41:51,117 plantseg.functionals.prediction.prediction - Zoo prediction: Running model from PlantSeg official zoo.\n"
     ]
    },
    {
     "name": "stderr",
     "output_type": "stream",
     "text": [
      "/space/alireza/tseg/.conda/lib/python3.11/site-packages/plantseg/io/tiff.py:114: UserWarning: No metadata found.\n",
      "  warnings.warn(\"No metadata found.\")\n"
     ]
    },
    {
     "name": "stdout",
     "output_type": "stream",
     "text": [
      "INFO: P [MainThread] 2025-01-28 01:41:51,172 plantseg.functionals.prediction.prediction - Computing theoretical minimum halo from model.\n",
      "INFO: P [MainThread] 2025-01-28 01:41:51,173 plantseg.functionals.prediction.prediction - For raw in shape (576, 720): set patch shape (1, 64, 64), set halo shape (0, 44, 44)\n",
      "INFO: P [MainThread] 2025-01-28 01:41:51,187 plantseg.functionals.prediction.utils.array_predictor - Using batch size of 1 for prediction\n"
     ]
    },
    {
     "name": "stderr",
     "output_type": "stream",
     "text": [
      "\n",
      "\u001b[A\n",
      "\u001b[A\n",
      "\u001b[A\n",
      "\u001b[A\n",
      "\u001b[A\n",
      "\u001b[A\n",
      "\u001b[A\n",
      "100%|██████████| 180/180 [00:00<00:00, 247.33it/s]\n"
     ]
    },
    {
     "name": "stdout",
     "output_type": "stream",
     "text": [
      "INFO: P [MainThread] 2025-01-28 01:41:51,957 plantseg.functionals.prediction.prediction - Zoo prediction: Running model from PlantSeg official zoo.\n"
     ]
    },
    {
     "name": "stderr",
     "output_type": "stream",
     "text": [
      "/space/alireza/tseg/.conda/lib/python3.11/site-packages/plantseg/io/tiff.py:114: UserWarning: No metadata found.\n",
      "  warnings.warn(\"No metadata found.\")\n"
     ]
    },
    {
     "name": "stdout",
     "output_type": "stream",
     "text": [
      "INFO: P [MainThread] 2025-01-28 01:41:52,013 plantseg.functionals.prediction.prediction - Computing theoretical minimum halo from model.\n",
      "INFO: P [MainThread] 2025-01-28 01:41:52,014 plantseg.functionals.prediction.prediction - For raw in shape (576, 720): set patch shape (1, 64, 64), set halo shape (0, 44, 44)\n",
      "INFO: P [MainThread] 2025-01-28 01:41:52,027 plantseg.functionals.prediction.utils.array_predictor - Using batch size of 1 for prediction\n"
     ]
    },
    {
     "name": "stderr",
     "output_type": "stream",
     "text": [
      "\n",
      "\u001b[A\n",
      "\u001b[A\n",
      "\u001b[A\n",
      "\u001b[A\n",
      "\u001b[A\n",
      "\u001b[A\n",
      "\u001b[A\n",
      "100%|██████████| 180/180 [00:00<00:00, 246.45it/s]\n"
     ]
    },
    {
     "name": "stdout",
     "output_type": "stream",
     "text": [
      "INFO: P [MainThread] 2025-01-28 01:41:52,803 plantseg.functionals.prediction.prediction - Zoo prediction: Running model from PlantSeg official zoo.\n",
      "INFO: P [MainThread] 2025-01-28 01:41:52,831 plantseg.functionals.prediction.prediction - Computing theoretical minimum halo from model.\n",
      "INFO: P [MainThread] 2025-01-28 01:41:52,831 plantseg.functionals.prediction.prediction - For raw in shape (576, 720): set patch shape (1, 64, 64), set halo shape (0, 44, 44)\n",
      "INFO: P [MainThread] 2025-01-28 01:41:52,840 plantseg.functionals.prediction.utils.array_predictor - Using batch size of 1 for prediction\n"
     ]
    },
    {
     "name": "stderr",
     "output_type": "stream",
     "text": [
      "/space/alireza/tseg/.conda/lib/python3.11/site-packages/plantseg/io/tiff.py:114: UserWarning: No metadata found.\n",
      "  warnings.warn(\"No metadata found.\")\n",
      "\n",
      "\u001b[A\n",
      "\u001b[A\n",
      "\u001b[A\n",
      "\u001b[A\n",
      "100%|██████████| 180/180 [00:00<00:00, 403.64it/s]\n"
     ]
    },
    {
     "name": "stdout",
     "output_type": "stream",
     "text": [
      "INFO: P [MainThread] 2025-01-28 01:41:53,809 plantseg.functionals.prediction.prediction - Zoo prediction: Running model from PlantSeg official zoo.\n"
     ]
    },
    {
     "name": "stderr",
     "output_type": "stream",
     "text": [
      "/space/alireza/tseg/.conda/lib/python3.11/site-packages/plantseg/io/tiff.py:114: UserWarning: No metadata found.\n",
      "  warnings.warn(\"No metadata found.\")\n"
     ]
    },
    {
     "name": "stdout",
     "output_type": "stream",
     "text": [
      "INFO: P [MainThread] 2025-01-28 01:41:53,842 plantseg.functionals.prediction.prediction - Computing theoretical minimum halo from model.\n",
      "INFO: P [MainThread] 2025-01-28 01:41:53,843 plantseg.functionals.prediction.prediction - For raw in shape (576, 720): set patch shape (1, 64, 64), set halo shape (0, 44, 44)\n",
      "INFO: P [MainThread] 2025-01-28 01:41:53,849 plantseg.functionals.prediction.utils.array_predictor - Using batch size of 1 for prediction\n"
     ]
    },
    {
     "name": "stderr",
     "output_type": "stream",
     "text": [
      "\n",
      "\u001b[A\n",
      "\u001b[A\n",
      "\u001b[A\n",
      "\u001b[A\n",
      "100%|██████████| 180/180 [00:00<00:00, 404.06it/s]\n",
      "Processing dataset:  92%|█████████▏| 92/100 [07:11<00:22,  2.82s/it]"
     ]
    },
    {
     "name": "stdout",
     "output_type": "stream",
     "text": [
      "INFO: P [MainThread] 2025-01-28 01:41:54,341 plantseg.functionals.prediction.prediction - Zoo prediction: Running model from PlantSeg official zoo.\n"
     ]
    },
    {
     "name": "stderr",
     "output_type": "stream",
     "text": [
      "/space/alireza/tseg/.conda/lib/python3.11/site-packages/plantseg/io/tiff.py:114: UserWarning: No metadata found.\n",
      "  warnings.warn(\"No metadata found.\")\n"
     ]
    },
    {
     "name": "stdout",
     "output_type": "stream",
     "text": [
      "INFO: P [MainThread] 2025-01-28 01:41:54,397 plantseg.functionals.prediction.prediction - Computing theoretical minimum halo from model.\n",
      "INFO: P [MainThread] 2025-01-28 01:41:54,398 plantseg.functionals.prediction.prediction - For raw in shape (576, 720): set patch shape (1, 64, 64), set halo shape (0, 44, 44)\n",
      "INFO: P [MainThread] 2025-01-28 01:41:54,412 plantseg.functionals.prediction.utils.array_predictor - Using batch size of 1 for prediction\n"
     ]
    },
    {
     "name": "stderr",
     "output_type": "stream",
     "text": [
      "\n",
      "\u001b[A\n",
      "\u001b[A\n",
      "\u001b[A\n",
      "\u001b[A\n",
      "\u001b[A\n",
      "\u001b[A\n",
      "\u001b[A\n",
      "100%|██████████| 180/180 [00:00<00:00, 245.79it/s]\n"
     ]
    },
    {
     "name": "stdout",
     "output_type": "stream",
     "text": [
      "INFO: P [MainThread] 2025-01-28 01:41:55,189 plantseg.functionals.prediction.prediction - Zoo prediction: Running model from PlantSeg official zoo.\n"
     ]
    },
    {
     "name": "stderr",
     "output_type": "stream",
     "text": [
      "/space/alireza/tseg/.conda/lib/python3.11/site-packages/plantseg/io/tiff.py:114: UserWarning: No metadata found.\n",
      "  warnings.warn(\"No metadata found.\")\n"
     ]
    },
    {
     "name": "stdout",
     "output_type": "stream",
     "text": [
      "INFO: P [MainThread] 2025-01-28 01:41:55,246 plantseg.functionals.prediction.prediction - Computing theoretical minimum halo from model.\n",
      "INFO: P [MainThread] 2025-01-28 01:41:55,246 plantseg.functionals.prediction.prediction - For raw in shape (576, 720): set patch shape (1, 64, 64), set halo shape (0, 44, 44)\n",
      "INFO: P [MainThread] 2025-01-28 01:41:55,260 plantseg.functionals.prediction.utils.array_predictor - Using batch size of 1 for prediction\n"
     ]
    },
    {
     "name": "stderr",
     "output_type": "stream",
     "text": [
      "\n",
      "\u001b[A\n",
      "\u001b[A\n",
      "\u001b[A\n",
      "\u001b[A\n",
      "\u001b[A\n",
      "\u001b[A\n",
      "\u001b[A\n",
      "100%|██████████| 180/180 [00:00<00:00, 244.95it/s]\n"
     ]
    },
    {
     "name": "stdout",
     "output_type": "stream",
     "text": [
      "INFO: P [MainThread] 2025-01-28 01:41:56,041 plantseg.functionals.prediction.prediction - Zoo prediction: Running model from PlantSeg official zoo.\n",
      "INFO: P [MainThread] 2025-01-28 01:41:56,068 plantseg.functionals.prediction.prediction - Computing theoretical minimum halo from model.\n",
      "INFO: P [MainThread] 2025-01-28 01:41:56,069 plantseg.functionals.prediction.prediction - For raw in shape (576, 720): set patch shape (1, 64, 64), set halo shape (0, 44, 44)\n"
     ]
    },
    {
     "name": "stderr",
     "output_type": "stream",
     "text": [
      "/space/alireza/tseg/.conda/lib/python3.11/site-packages/plantseg/io/tiff.py:114: UserWarning: No metadata found.\n",
      "  warnings.warn(\"No metadata found.\")\n"
     ]
    },
    {
     "name": "stdout",
     "output_type": "stream",
     "text": [
      "INFO: P [MainThread] 2025-01-28 01:41:56,077 plantseg.functionals.prediction.utils.array_predictor - Using batch size of 1 for prediction\n"
     ]
    },
    {
     "name": "stderr",
     "output_type": "stream",
     "text": [
      "\n",
      "\u001b[A\n",
      "\u001b[A\n",
      "\u001b[A\n",
      "\u001b[A\n",
      "100%|██████████| 180/180 [00:00<00:00, 403.71it/s]\n"
     ]
    },
    {
     "name": "stdout",
     "output_type": "stream",
     "text": [
      "INFO: P [MainThread] 2025-01-28 01:41:56,568 plantseg.functionals.prediction.prediction - Zoo prediction: Running model from PlantSeg official zoo.\n"
     ]
    },
    {
     "name": "stderr",
     "output_type": "stream",
     "text": [
      "/space/alireza/tseg/.conda/lib/python3.11/site-packages/plantseg/io/tiff.py:114: UserWarning: No metadata found.\n",
      "  warnings.warn(\"No metadata found.\")\n"
     ]
    },
    {
     "name": "stdout",
     "output_type": "stream",
     "text": [
      "INFO: P [MainThread] 2025-01-28 01:41:56,601 plantseg.functionals.prediction.prediction - Computing theoretical minimum halo from model.\n",
      "INFO: P [MainThread] 2025-01-28 01:41:56,601 plantseg.functionals.prediction.prediction - For raw in shape (576, 720): set patch shape (1, 64, 64), set halo shape (0, 44, 44)\n",
      "INFO: P [MainThread] 2025-01-28 01:41:56,608 plantseg.functionals.prediction.utils.array_predictor - Using batch size of 1 for prediction\n"
     ]
    },
    {
     "name": "stderr",
     "output_type": "stream",
     "text": [
      "\n",
      "\u001b[A\n",
      "\u001b[A\n",
      "\u001b[A\n",
      "\u001b[A\n",
      "100%|██████████| 180/180 [00:00<00:00, 402.43it/s]\n",
      "Processing dataset:  93%|█████████▎| 93/100 [07:13<00:19,  2.80s/it]"
     ]
    },
    {
     "name": "stdout",
     "output_type": "stream",
     "text": [
      "INFO: P [MainThread] 2025-01-28 01:41:57,103 plantseg.functionals.prediction.prediction - Zoo prediction: Running model from PlantSeg official zoo.\n"
     ]
    },
    {
     "name": "stderr",
     "output_type": "stream",
     "text": [
      "/space/alireza/tseg/.conda/lib/python3.11/site-packages/plantseg/io/tiff.py:114: UserWarning: No metadata found.\n",
      "  warnings.warn(\"No metadata found.\")\n"
     ]
    },
    {
     "name": "stdout",
     "output_type": "stream",
     "text": [
      "INFO: P [MainThread] 2025-01-28 01:41:57,159 plantseg.functionals.prediction.prediction - Computing theoretical minimum halo from model.\n",
      "INFO: P [MainThread] 2025-01-28 01:41:57,159 plantseg.functionals.prediction.prediction - For raw in shape (576, 720): set patch shape (1, 64, 64), set halo shape (0, 44, 44)\n",
      "INFO: P [MainThread] 2025-01-28 01:41:57,173 plantseg.functionals.prediction.utils.array_predictor - Using batch size of 1 for prediction\n"
     ]
    },
    {
     "name": "stderr",
     "output_type": "stream",
     "text": [
      "\n",
      "\u001b[A\n",
      "\u001b[A\n",
      "\u001b[A\n",
      "\u001b[A\n",
      "\u001b[A\n",
      "\u001b[A\n",
      "\u001b[A\n",
      "100%|██████████| 180/180 [00:00<00:00, 247.31it/s]\n"
     ]
    },
    {
     "name": "stdout",
     "output_type": "stream",
     "text": [
      "INFO: P [MainThread] 2025-01-28 01:41:57,944 plantseg.functionals.prediction.prediction - Zoo prediction: Running model from PlantSeg official zoo.\n"
     ]
    },
    {
     "name": "stderr",
     "output_type": "stream",
     "text": [
      "/space/alireza/tseg/.conda/lib/python3.11/site-packages/plantseg/io/tiff.py:114: UserWarning: No metadata found.\n",
      "  warnings.warn(\"No metadata found.\")\n"
     ]
    },
    {
     "name": "stdout",
     "output_type": "stream",
     "text": [
      "INFO: P [MainThread] 2025-01-28 01:41:58,000 plantseg.functionals.prediction.prediction - Computing theoretical minimum halo from model.\n",
      "INFO: P [MainThread] 2025-01-28 01:41:58,001 plantseg.functionals.prediction.prediction - For raw in shape (576, 720): set patch shape (1, 64, 64), set halo shape (0, 44, 44)\n",
      "INFO: P [MainThread] 2025-01-28 01:41:58,014 plantseg.functionals.prediction.utils.array_predictor - Using batch size of 1 for prediction\n"
     ]
    },
    {
     "name": "stderr",
     "output_type": "stream",
     "text": [
      "\n",
      "\u001b[A\n",
      "\u001b[A\n",
      "\u001b[A\n",
      "\u001b[A\n",
      "\u001b[A\n",
      "\u001b[A\n",
      "\u001b[A\n",
      "100%|██████████| 180/180 [00:00<00:00, 246.97it/s]\n"
     ]
    },
    {
     "name": "stdout",
     "output_type": "stream",
     "text": [
      "INFO: P [MainThread] 2025-01-28 01:41:58,787 plantseg.functionals.prediction.prediction - Zoo prediction: Running model from PlantSeg official zoo.\n",
      "INFO: P [MainThread] 2025-01-28 01:41:58,814 plantseg.functionals.prediction.prediction - Computing theoretical minimum halo from model.\n",
      "INFO: P [MainThread] 2025-01-28 01:41:58,814 plantseg.functionals.prediction.prediction - For raw in shape (576, 720): set patch shape (1, 64, 64), set halo shape (0, 44, 44)\n",
      "INFO: P [MainThread] 2025-01-28 01:41:58,822 plantseg.functionals.prediction.utils.array_predictor - Using batch size of 1 for prediction\n"
     ]
    },
    {
     "name": "stderr",
     "output_type": "stream",
     "text": [
      "/space/alireza/tseg/.conda/lib/python3.11/site-packages/plantseg/io/tiff.py:114: UserWarning: No metadata found.\n",
      "  warnings.warn(\"No metadata found.\")\n",
      "\n",
      "\u001b[A\n",
      "\u001b[A\n",
      "\u001b[A\n",
      "\u001b[A\n",
      "100%|██████████| 180/180 [00:00<00:00, 402.59it/s]\n"
     ]
    },
    {
     "name": "stdout",
     "output_type": "stream",
     "text": [
      "INFO: P [MainThread] 2025-01-28 01:41:59,313 plantseg.functionals.prediction.prediction - Zoo prediction: Running model from PlantSeg official zoo.\n"
     ]
    },
    {
     "name": "stderr",
     "output_type": "stream",
     "text": [
      "/space/alireza/tseg/.conda/lib/python3.11/site-packages/plantseg/io/tiff.py:114: UserWarning: No metadata found.\n",
      "  warnings.warn(\"No metadata found.\")\n"
     ]
    },
    {
     "name": "stdout",
     "output_type": "stream",
     "text": [
      "INFO: P [MainThread] 2025-01-28 01:41:59,346 plantseg.functionals.prediction.prediction - Computing theoretical minimum halo from model.\n",
      "INFO: P [MainThread] 2025-01-28 01:41:59,347 plantseg.functionals.prediction.prediction - For raw in shape (576, 720): set patch shape (1, 64, 64), set halo shape (0, 44, 44)\n",
      "INFO: P [MainThread] 2025-01-28 01:41:59,354 plantseg.functionals.prediction.utils.array_predictor - Using batch size of 1 for prediction\n"
     ]
    },
    {
     "name": "stderr",
     "output_type": "stream",
     "text": [
      "\n",
      "\u001b[A\n",
      "\u001b[A\n",
      "\u001b[A\n",
      "\u001b[A\n",
      "100%|██████████| 180/180 [00:00<00:00, 403.43it/s]\n",
      "Processing dataset:  94%|█████████▍| 94/100 [07:16<00:16,  2.78s/it]"
     ]
    },
    {
     "name": "stdout",
     "output_type": "stream",
     "text": [
      "INFO: P [MainThread] 2025-01-28 01:41:59,846 plantseg.functionals.prediction.prediction - Zoo prediction: Running model from PlantSeg official zoo.\n"
     ]
    },
    {
     "name": "stderr",
     "output_type": "stream",
     "text": [
      "/space/alireza/tseg/.conda/lib/python3.11/site-packages/plantseg/io/tiff.py:114: UserWarning: No metadata found.\n",
      "  warnings.warn(\"No metadata found.\")\n"
     ]
    },
    {
     "name": "stdout",
     "output_type": "stream",
     "text": [
      "INFO: P [MainThread] 2025-01-28 01:41:59,902 plantseg.functionals.prediction.prediction - Computing theoretical minimum halo from model.\n",
      "INFO: P [MainThread] 2025-01-28 01:41:59,903 plantseg.functionals.prediction.prediction - For raw in shape (576, 720): set patch shape (1, 64, 64), set halo shape (0, 44, 44)\n",
      "INFO: P [MainThread] 2025-01-28 01:41:59,917 plantseg.functionals.prediction.utils.array_predictor - Using batch size of 1 for prediction\n"
     ]
    },
    {
     "name": "stderr",
     "output_type": "stream",
     "text": [
      "\n",
      "\u001b[A\n",
      "\u001b[A\n",
      "\u001b[A\n",
      "\u001b[A\n",
      "\u001b[A\n",
      "\u001b[A\n",
      "\u001b[A\n",
      "100%|██████████| 180/180 [00:00<00:00, 245.88it/s]\n"
     ]
    },
    {
     "name": "stdout",
     "output_type": "stream",
     "text": [
      "INFO: P [MainThread] 2025-01-28 01:42:00,694 plantseg.functionals.prediction.prediction - Zoo prediction: Running model from PlantSeg official zoo.\n"
     ]
    },
    {
     "name": "stderr",
     "output_type": "stream",
     "text": [
      "/space/alireza/tseg/.conda/lib/python3.11/site-packages/plantseg/io/tiff.py:114: UserWarning: No metadata found.\n",
      "  warnings.warn(\"No metadata found.\")\n"
     ]
    },
    {
     "name": "stdout",
     "output_type": "stream",
     "text": [
      "INFO: P [MainThread] 2025-01-28 01:42:00,750 plantseg.functionals.prediction.prediction - Computing theoretical minimum halo from model.\n",
      "INFO: P [MainThread] 2025-01-28 01:42:00,751 plantseg.functionals.prediction.prediction - For raw in shape (576, 720): set patch shape (1, 64, 64), set halo shape (0, 44, 44)\n",
      "INFO: P [MainThread] 2025-01-28 01:42:00,764 plantseg.functionals.prediction.utils.array_predictor - Using batch size of 1 for prediction\n"
     ]
    },
    {
     "name": "stderr",
     "output_type": "stream",
     "text": [
      "\n",
      "\u001b[A\n",
      "\u001b[A\n",
      "\u001b[A\n",
      "\u001b[A\n",
      "\u001b[A\n",
      "\u001b[A\n",
      "\u001b[A\n",
      "100%|██████████| 180/180 [00:00<00:00, 247.16it/s]\n"
     ]
    },
    {
     "name": "stdout",
     "output_type": "stream",
     "text": [
      "INFO: P [MainThread] 2025-01-28 01:42:01,536 plantseg.functionals.prediction.prediction - Zoo prediction: Running model from PlantSeg official zoo.\n",
      "INFO: P [MainThread] 2025-01-28 01:42:01,563 plantseg.functionals.prediction.prediction - Computing theoretical minimum halo from model.\n",
      "INFO: P [MainThread] 2025-01-28 01:42:01,564 plantseg.functionals.prediction.prediction - For raw in shape (576, 720): set patch shape (1, 64, 64), set halo shape (0, 44, 44)\n",
      "INFO: P [MainThread] 2025-01-28 01:42:01,572 plantseg.functionals.prediction.utils.array_predictor - Using batch size of 1 for prediction\n"
     ]
    },
    {
     "name": "stderr",
     "output_type": "stream",
     "text": [
      "/space/alireza/tseg/.conda/lib/python3.11/site-packages/plantseg/io/tiff.py:114: UserWarning: No metadata found.\n",
      "  warnings.warn(\"No metadata found.\")\n",
      "\n",
      "\u001b[A\n",
      "\u001b[A\n",
      "\u001b[A\n",
      "\u001b[A\n",
      "100%|██████████| 180/180 [00:00<00:00, 403.15it/s]\n"
     ]
    },
    {
     "name": "stdout",
     "output_type": "stream",
     "text": [
      "INFO: P [MainThread] 2025-01-28 01:42:02,062 plantseg.functionals.prediction.prediction - Zoo prediction: Running model from PlantSeg official zoo.\n"
     ]
    },
    {
     "name": "stderr",
     "output_type": "stream",
     "text": [
      "/space/alireza/tseg/.conda/lib/python3.11/site-packages/plantseg/io/tiff.py:114: UserWarning: No metadata found.\n",
      "  warnings.warn(\"No metadata found.\")\n"
     ]
    },
    {
     "name": "stdout",
     "output_type": "stream",
     "text": [
      "INFO: P [MainThread] 2025-01-28 01:42:02,095 plantseg.functionals.prediction.prediction - Computing theoretical minimum halo from model.\n",
      "INFO: P [MainThread] 2025-01-28 01:42:02,095 plantseg.functionals.prediction.prediction - For raw in shape (576, 720): set patch shape (1, 64, 64), set halo shape (0, 44, 44)\n",
      "INFO: P [MainThread] 2025-01-28 01:42:02,102 plantseg.functionals.prediction.utils.array_predictor - Using batch size of 1 for prediction\n"
     ]
    },
    {
     "name": "stderr",
     "output_type": "stream",
     "text": [
      "\n",
      "\u001b[A\n",
      "\u001b[A\n",
      "\u001b[A\n",
      "\u001b[A\n",
      "100%|██████████| 180/180 [00:00<00:00, 402.48it/s]\n",
      "Processing dataset:  95%|█████████▌| 95/100 [07:19<00:13,  2.77s/it]"
     ]
    },
    {
     "name": "stdout",
     "output_type": "stream",
     "text": [
      "INFO: P [MainThread] 2025-01-28 01:42:02,596 plantseg.functionals.prediction.prediction - Zoo prediction: Running model from PlantSeg official zoo.\n"
     ]
    },
    {
     "name": "stderr",
     "output_type": "stream",
     "text": [
      "/space/alireza/tseg/.conda/lib/python3.11/site-packages/plantseg/io/tiff.py:114: UserWarning: No metadata found.\n",
      "  warnings.warn(\"No metadata found.\")\n"
     ]
    },
    {
     "name": "stdout",
     "output_type": "stream",
     "text": [
      "INFO: P [MainThread] 2025-01-28 01:42:02,652 plantseg.functionals.prediction.prediction - Computing theoretical minimum halo from model.\n",
      "INFO: P [MainThread] 2025-01-28 01:42:02,653 plantseg.functionals.prediction.prediction - For raw in shape (576, 720): set patch shape (1, 64, 64), set halo shape (0, 44, 44)\n",
      "INFO: P [MainThread] 2025-01-28 01:42:02,666 plantseg.functionals.prediction.utils.array_predictor - Using batch size of 1 for prediction\n"
     ]
    },
    {
     "name": "stderr",
     "output_type": "stream",
     "text": [
      "\n",
      "\u001b[A\n",
      "\u001b[A\n",
      "\u001b[A\n",
      "\u001b[A\n",
      "\u001b[A\n",
      "\u001b[A\n",
      "\u001b[A\n",
      "100%|██████████| 180/180 [00:00<00:00, 247.29it/s]\n"
     ]
    },
    {
     "name": "stdout",
     "output_type": "stream",
     "text": [
      "INFO: P [MainThread] 2025-01-28 01:42:03,439 plantseg.functionals.prediction.prediction - Zoo prediction: Running model from PlantSeg official zoo.\n"
     ]
    },
    {
     "name": "stderr",
     "output_type": "stream",
     "text": [
      "/space/alireza/tseg/.conda/lib/python3.11/site-packages/plantseg/io/tiff.py:114: UserWarning: No metadata found.\n",
      "  warnings.warn(\"No metadata found.\")\n"
     ]
    },
    {
     "name": "stdout",
     "output_type": "stream",
     "text": [
      "INFO: P [MainThread] 2025-01-28 01:42:03,495 plantseg.functionals.prediction.prediction - Computing theoretical minimum halo from model.\n",
      "INFO: P [MainThread] 2025-01-28 01:42:03,496 plantseg.functionals.prediction.prediction - For raw in shape (576, 720): set patch shape (1, 64, 64), set halo shape (0, 44, 44)\n",
      "INFO: P [MainThread] 2025-01-28 01:42:03,509 plantseg.functionals.prediction.utils.array_predictor - Using batch size of 1 for prediction\n"
     ]
    },
    {
     "name": "stderr",
     "output_type": "stream",
     "text": [
      "\n",
      "\u001b[A\n",
      "\u001b[A\n",
      "\u001b[A\n",
      "\u001b[A\n",
      "\u001b[A\n",
      "\u001b[A\n",
      "\u001b[A\n",
      "100%|██████████| 180/180 [00:00<00:00, 246.88it/s]\n"
     ]
    },
    {
     "name": "stdout",
     "output_type": "stream",
     "text": [
      "INFO: P [MainThread] 2025-01-28 01:42:04,283 plantseg.functionals.prediction.prediction - Zoo prediction: Running model from PlantSeg official zoo.\n",
      "INFO: P [MainThread] 2025-01-28 01:42:04,310 plantseg.functionals.prediction.prediction - Computing theoretical minimum halo from model.\n",
      "INFO: P [MainThread] 2025-01-28 01:42:04,310 plantseg.functionals.prediction.prediction - For raw in shape (576, 720): set patch shape (1, 64, 64), set halo shape (0, 44, 44)\n",
      "INFO: P [MainThread] 2025-01-28 01:42:04,319 plantseg.functionals.prediction.utils.array_predictor - Using batch size of 1 for prediction\n"
     ]
    },
    {
     "name": "stderr",
     "output_type": "stream",
     "text": [
      "/space/alireza/tseg/.conda/lib/python3.11/site-packages/plantseg/io/tiff.py:114: UserWarning: No metadata found.\n",
      "  warnings.warn(\"No metadata found.\")\n",
      "\n",
      "\u001b[A\n",
      "\u001b[A\n",
      "\u001b[A\n",
      "\u001b[A\n",
      "100%|██████████| 180/180 [00:00<00:00, 403.85it/s]\n"
     ]
    },
    {
     "name": "stdout",
     "output_type": "stream",
     "text": [
      "INFO: P [MainThread] 2025-01-28 01:42:04,810 plantseg.functionals.prediction.prediction - Zoo prediction: Running model from PlantSeg official zoo.\n"
     ]
    },
    {
     "name": "stderr",
     "output_type": "stream",
     "text": [
      "/space/alireza/tseg/.conda/lib/python3.11/site-packages/plantseg/io/tiff.py:114: UserWarning: No metadata found.\n",
      "  warnings.warn(\"No metadata found.\")\n"
     ]
    },
    {
     "name": "stdout",
     "output_type": "stream",
     "text": [
      "INFO: P [MainThread] 2025-01-28 01:42:04,844 plantseg.functionals.prediction.prediction - Computing theoretical minimum halo from model.\n",
      "INFO: P [MainThread] 2025-01-28 01:42:04,844 plantseg.functionals.prediction.prediction - For raw in shape (576, 720): set patch shape (1, 64, 64), set halo shape (0, 44, 44)\n",
      "INFO: P [MainThread] 2025-01-28 01:42:04,851 plantseg.functionals.prediction.utils.array_predictor - Using batch size of 1 for prediction\n"
     ]
    },
    {
     "name": "stderr",
     "output_type": "stream",
     "text": [
      "\n",
      "\u001b[A\n",
      "\u001b[A\n",
      "\u001b[A\n",
      "\u001b[A\n",
      "100%|██████████| 180/180 [00:00<00:00, 403.11it/s]\n",
      "Processing dataset:  96%|█████████▌| 96/100 [07:22<00:11,  2.77s/it]"
     ]
    },
    {
     "name": "stdout",
     "output_type": "stream",
     "text": [
      "INFO: P [MainThread] 2025-01-28 01:42:05,345 plantseg.functionals.prediction.prediction - Zoo prediction: Running model from PlantSeg official zoo.\n"
     ]
    },
    {
     "name": "stderr",
     "output_type": "stream",
     "text": [
      "/space/alireza/tseg/.conda/lib/python3.11/site-packages/plantseg/io/tiff.py:114: UserWarning: No metadata found.\n",
      "  warnings.warn(\"No metadata found.\")\n"
     ]
    },
    {
     "name": "stdout",
     "output_type": "stream",
     "text": [
      "INFO: P [MainThread] 2025-01-28 01:42:05,401 plantseg.functionals.prediction.prediction - Computing theoretical minimum halo from model.\n",
      "INFO: P [MainThread] 2025-01-28 01:42:05,401 plantseg.functionals.prediction.prediction - For raw in shape (576, 720): set patch shape (1, 64, 64), set halo shape (0, 44, 44)\n",
      "INFO: P [MainThread] 2025-01-28 01:42:05,415 plantseg.functionals.prediction.utils.array_predictor - Using batch size of 1 for prediction\n"
     ]
    },
    {
     "name": "stderr",
     "output_type": "stream",
     "text": [
      "\n",
      "\u001b[A\n",
      "\u001b[A\n",
      "\u001b[A\n",
      "\u001b[A\n",
      "\u001b[A\n",
      "\u001b[A\n",
      "\u001b[A\n",
      "100%|██████████| 180/180 [00:00<00:00, 247.35it/s]\n"
     ]
    },
    {
     "name": "stdout",
     "output_type": "stream",
     "text": [
      "INFO: P [MainThread] 2025-01-28 01:42:06,187 plantseg.functionals.prediction.prediction - Zoo prediction: Running model from PlantSeg official zoo.\n"
     ]
    },
    {
     "name": "stderr",
     "output_type": "stream",
     "text": [
      "/space/alireza/tseg/.conda/lib/python3.11/site-packages/plantseg/io/tiff.py:114: UserWarning: No metadata found.\n",
      "  warnings.warn(\"No metadata found.\")\n"
     ]
    },
    {
     "name": "stdout",
     "output_type": "stream",
     "text": [
      "INFO: P [MainThread] 2025-01-28 01:42:06,242 plantseg.functionals.prediction.prediction - Computing theoretical minimum halo from model.\n",
      "INFO: P [MainThread] 2025-01-28 01:42:06,243 plantseg.functionals.prediction.prediction - For raw in shape (576, 720): set patch shape (1, 64, 64), set halo shape (0, 44, 44)\n",
      "INFO: P [MainThread] 2025-01-28 01:42:06,256 plantseg.functionals.prediction.utils.array_predictor - Using batch size of 1 for prediction\n"
     ]
    },
    {
     "name": "stderr",
     "output_type": "stream",
     "text": [
      "\n",
      "\u001b[A\n",
      "\u001b[A\n",
      "\u001b[A\n",
      "\u001b[A\n",
      "\u001b[A\n",
      "\u001b[A\n",
      "\u001b[A\n",
      "100%|██████████| 180/180 [00:00<00:00, 245.21it/s]\n"
     ]
    },
    {
     "name": "stdout",
     "output_type": "stream",
     "text": [
      "INFO: P [MainThread] 2025-01-28 01:42:07,036 plantseg.functionals.prediction.prediction - Zoo prediction: Running model from PlantSeg official zoo.\n",
      "INFO: P [MainThread] 2025-01-28 01:42:07,063 plantseg.functionals.prediction.prediction - Computing theoretical minimum halo from model.\n",
      "INFO: P [MainThread] 2025-01-28 01:42:07,064 plantseg.functionals.prediction.prediction - For raw in shape (576, 720): set patch shape (1, 64, 64), set halo shape (0, 44, 44)\n"
     ]
    },
    {
     "name": "stderr",
     "output_type": "stream",
     "text": [
      "/space/alireza/tseg/.conda/lib/python3.11/site-packages/plantseg/io/tiff.py:114: UserWarning: No metadata found.\n",
      "  warnings.warn(\"No metadata found.\")\n"
     ]
    },
    {
     "name": "stdout",
     "output_type": "stream",
     "text": [
      "INFO: P [MainThread] 2025-01-28 01:42:07,072 plantseg.functionals.prediction.utils.array_predictor - Using batch size of 1 for prediction\n"
     ]
    },
    {
     "name": "stderr",
     "output_type": "stream",
     "text": [
      "\n",
      "\u001b[A\n",
      "\u001b[A\n",
      "\u001b[A\n",
      "\u001b[A\n",
      "100%|██████████| 180/180 [00:00<00:00, 403.87it/s]\n"
     ]
    },
    {
     "name": "stdout",
     "output_type": "stream",
     "text": [
      "INFO: P [MainThread] 2025-01-28 01:42:07,562 plantseg.functionals.prediction.prediction - Zoo prediction: Running model from PlantSeg official zoo.\n"
     ]
    },
    {
     "name": "stderr",
     "output_type": "stream",
     "text": [
      "/space/alireza/tseg/.conda/lib/python3.11/site-packages/plantseg/io/tiff.py:114: UserWarning: No metadata found.\n",
      "  warnings.warn(\"No metadata found.\")\n"
     ]
    },
    {
     "name": "stdout",
     "output_type": "stream",
     "text": [
      "INFO: P [MainThread] 2025-01-28 01:42:07,594 plantseg.functionals.prediction.prediction - Computing theoretical minimum halo from model.\n",
      "INFO: P [MainThread] 2025-01-28 01:42:07,595 plantseg.functionals.prediction.prediction - For raw in shape (576, 720): set patch shape (1, 64, 64), set halo shape (0, 44, 44)\n",
      "INFO: P [MainThread] 2025-01-28 01:42:07,601 plantseg.functionals.prediction.utils.array_predictor - Using batch size of 1 for prediction\n"
     ]
    },
    {
     "name": "stderr",
     "output_type": "stream",
     "text": [
      "\n",
      "\u001b[A\n",
      "\u001b[A\n",
      "\u001b[A\n",
      "\u001b[A\n",
      "100%|██████████| 180/180 [00:00<00:00, 403.43it/s]\n",
      "Processing dataset:  97%|█████████▋| 97/100 [07:24<00:08,  2.76s/it]"
     ]
    },
    {
     "name": "stdout",
     "output_type": "stream",
     "text": [
      "INFO: P [MainThread] 2025-01-28 01:42:08,095 plantseg.functionals.prediction.prediction - Zoo prediction: Running model from PlantSeg official zoo.\n"
     ]
    },
    {
     "name": "stderr",
     "output_type": "stream",
     "text": [
      "/space/alireza/tseg/.conda/lib/python3.11/site-packages/plantseg/io/tiff.py:114: UserWarning: No metadata found.\n",
      "  warnings.warn(\"No metadata found.\")\n"
     ]
    },
    {
     "name": "stdout",
     "output_type": "stream",
     "text": [
      "INFO: P [MainThread] 2025-01-28 01:42:08,151 plantseg.functionals.prediction.prediction - Computing theoretical minimum halo from model.\n",
      "INFO: P [MainThread] 2025-01-28 01:42:08,151 plantseg.functionals.prediction.prediction - For raw in shape (576, 720): set patch shape (1, 64, 64), set halo shape (0, 44, 44)\n",
      "INFO: P [MainThread] 2025-01-28 01:42:08,165 plantseg.functionals.prediction.utils.array_predictor - Using batch size of 1 for prediction\n"
     ]
    },
    {
     "name": "stderr",
     "output_type": "stream",
     "text": [
      "\n",
      "\u001b[A\n",
      "\u001b[A\n",
      "\u001b[A\n",
      "\u001b[A\n",
      "\u001b[A\n",
      "\u001b[A\n",
      "\u001b[A\n",
      "100%|██████████| 180/180 [00:00<00:00, 247.06it/s]\n"
     ]
    },
    {
     "name": "stdout",
     "output_type": "stream",
     "text": [
      "INFO: P [MainThread] 2025-01-28 01:42:08,937 plantseg.functionals.prediction.prediction - Zoo prediction: Running model from PlantSeg official zoo.\n"
     ]
    },
    {
     "name": "stderr",
     "output_type": "stream",
     "text": [
      "/space/alireza/tseg/.conda/lib/python3.11/site-packages/plantseg/io/tiff.py:114: UserWarning: No metadata found.\n",
      "  warnings.warn(\"No metadata found.\")\n"
     ]
    },
    {
     "name": "stdout",
     "output_type": "stream",
     "text": [
      "INFO: P [MainThread] 2025-01-28 01:42:08,993 plantseg.functionals.prediction.prediction - Computing theoretical minimum halo from model.\n",
      "INFO: P [MainThread] 2025-01-28 01:42:08,994 plantseg.functionals.prediction.prediction - For raw in shape (576, 720): set patch shape (1, 64, 64), set halo shape (0, 44, 44)\n",
      "INFO: P [MainThread] 2025-01-28 01:42:09,007 plantseg.functionals.prediction.utils.array_predictor - Using batch size of 1 for prediction\n"
     ]
    },
    {
     "name": "stderr",
     "output_type": "stream",
     "text": [
      "\n",
      "\u001b[A\n",
      "\u001b[A\n",
      "\u001b[A\n",
      "\u001b[A\n",
      "\u001b[A\n",
      "\u001b[A\n",
      "\u001b[A\n",
      "100%|██████████| 180/180 [00:00<00:00, 244.22it/s]\n"
     ]
    },
    {
     "name": "stdout",
     "output_type": "stream",
     "text": [
      "INFO: P [MainThread] 2025-01-28 01:42:09,790 plantseg.functionals.prediction.prediction - Zoo prediction: Running model from PlantSeg official zoo.\n",
      "INFO: P [MainThread] 2025-01-28 01:42:09,818 plantseg.functionals.prediction.prediction - Computing theoretical minimum halo from model.\n",
      "INFO: P [MainThread] 2025-01-28 01:42:09,819 plantseg.functionals.prediction.prediction - For raw in shape (576, 720): set patch shape (1, 64, 64), set halo shape (0, 44, 44)\n"
     ]
    },
    {
     "name": "stderr",
     "output_type": "stream",
     "text": [
      "/space/alireza/tseg/.conda/lib/python3.11/site-packages/plantseg/io/tiff.py:114: UserWarning: No metadata found.\n",
      "  warnings.warn(\"No metadata found.\")\n"
     ]
    },
    {
     "name": "stdout",
     "output_type": "stream",
     "text": [
      "INFO: P [MainThread] 2025-01-28 01:42:09,827 plantseg.functionals.prediction.utils.array_predictor - Using batch size of 1 for prediction\n"
     ]
    },
    {
     "name": "stderr",
     "output_type": "stream",
     "text": [
      "\n",
      "\u001b[A\n",
      "\u001b[A\n",
      "\u001b[A\n",
      "\u001b[A\n",
      "100%|██████████| 180/180 [00:00<00:00, 404.08it/s]\n"
     ]
    },
    {
     "name": "stdout",
     "output_type": "stream",
     "text": [
      "INFO: P [MainThread] 2025-01-28 01:42:10,317 plantseg.functionals.prediction.prediction - Zoo prediction: Running model from PlantSeg official zoo.\n"
     ]
    },
    {
     "name": "stderr",
     "output_type": "stream",
     "text": [
      "/space/alireza/tseg/.conda/lib/python3.11/site-packages/plantseg/io/tiff.py:114: UserWarning: No metadata found.\n",
      "  warnings.warn(\"No metadata found.\")\n"
     ]
    },
    {
     "name": "stdout",
     "output_type": "stream",
     "text": [
      "INFO: P [MainThread] 2025-01-28 01:42:10,350 plantseg.functionals.prediction.prediction - Computing theoretical minimum halo from model.\n",
      "INFO: P [MainThread] 2025-01-28 01:42:10,350 plantseg.functionals.prediction.prediction - For raw in shape (576, 720): set patch shape (1, 64, 64), set halo shape (0, 44, 44)\n",
      "INFO: P [MainThread] 2025-01-28 01:42:10,357 plantseg.functionals.prediction.utils.array_predictor - Using batch size of 1 for prediction\n"
     ]
    },
    {
     "name": "stderr",
     "output_type": "stream",
     "text": [
      "\n",
      "\u001b[A\n",
      "\u001b[A\n",
      "\u001b[A\n",
      "\u001b[A\n",
      "100%|██████████| 180/180 [00:00<00:00, 402.61it/s]\n",
      "Processing dataset:  98%|█████████▊| 98/100 [07:27<00:05,  2.76s/it]"
     ]
    },
    {
     "name": "stdout",
     "output_type": "stream",
     "text": [
      "INFO: P [MainThread] 2025-01-28 01:42:10,851 plantseg.functionals.prediction.prediction - Zoo prediction: Running model from PlantSeg official zoo.\n"
     ]
    },
    {
     "name": "stderr",
     "output_type": "stream",
     "text": [
      "/space/alireza/tseg/.conda/lib/python3.11/site-packages/plantseg/io/tiff.py:114: UserWarning: No metadata found.\n",
      "  warnings.warn(\"No metadata found.\")\n"
     ]
    },
    {
     "name": "stdout",
     "output_type": "stream",
     "text": [
      "INFO: P [MainThread] 2025-01-28 01:42:10,906 plantseg.functionals.prediction.prediction - Computing theoretical minimum halo from model.\n",
      "INFO: P [MainThread] 2025-01-28 01:42:10,907 plantseg.functionals.prediction.prediction - For raw in shape (576, 720): set patch shape (1, 64, 64), set halo shape (0, 44, 44)\n",
      "INFO: P [MainThread] 2025-01-28 01:42:10,921 plantseg.functionals.prediction.utils.array_predictor - Using batch size of 1 for prediction\n"
     ]
    },
    {
     "name": "stderr",
     "output_type": "stream",
     "text": [
      "\n",
      "\u001b[A\n",
      "\u001b[A\n",
      "\u001b[A\n",
      "\u001b[A\n",
      "\u001b[A\n",
      "\u001b[A\n",
      "\u001b[A\n",
      "100%|██████████| 180/180 [00:00<00:00, 247.39it/s]\n"
     ]
    },
    {
     "name": "stdout",
     "output_type": "stream",
     "text": [
      "INFO: P [MainThread] 2025-01-28 01:42:11,693 plantseg.functionals.prediction.prediction - Zoo prediction: Running model from PlantSeg official zoo.\n"
     ]
    },
    {
     "name": "stderr",
     "output_type": "stream",
     "text": [
      "/space/alireza/tseg/.conda/lib/python3.11/site-packages/plantseg/io/tiff.py:114: UserWarning: No metadata found.\n",
      "  warnings.warn(\"No metadata found.\")\n"
     ]
    },
    {
     "name": "stdout",
     "output_type": "stream",
     "text": [
      "INFO: P [MainThread] 2025-01-28 01:42:11,749 plantseg.functionals.prediction.prediction - Computing theoretical minimum halo from model.\n",
      "INFO: P [MainThread] 2025-01-28 01:42:11,749 plantseg.functionals.prediction.prediction - For raw in shape (576, 720): set patch shape (1, 64, 64), set halo shape (0, 44, 44)\n",
      "INFO: P [MainThread] 2025-01-28 01:42:11,763 plantseg.functionals.prediction.utils.array_predictor - Using batch size of 1 for prediction\n"
     ]
    },
    {
     "name": "stderr",
     "output_type": "stream",
     "text": [
      "\n",
      "\u001b[A\n",
      "\u001b[A\n",
      "\u001b[A\n",
      "\u001b[A\n",
      "\u001b[A\n",
      "\u001b[A\n",
      "\u001b[A\n",
      "100%|██████████| 180/180 [00:00<00:00, 246.86it/s]\n"
     ]
    },
    {
     "name": "stdout",
     "output_type": "stream",
     "text": [
      "INFO: P [MainThread] 2025-01-28 01:42:12,536 plantseg.functionals.prediction.prediction - Zoo prediction: Running model from PlantSeg official zoo.\n",
      "INFO: P [MainThread] 2025-01-28 01:42:12,564 plantseg.functionals.prediction.prediction - Computing theoretical minimum halo from model.\n",
      "INFO: P [MainThread] 2025-01-28 01:42:12,565 plantseg.functionals.prediction.prediction - For raw in shape (576, 720): set patch shape (1, 64, 64), set halo shape (0, 44, 44)\n",
      "INFO: P [MainThread] 2025-01-28 01:42:12,573 plantseg.functionals.prediction.utils.array_predictor - Using batch size of 1 for prediction\n"
     ]
    },
    {
     "name": "stderr",
     "output_type": "stream",
     "text": [
      "/space/alireza/tseg/.conda/lib/python3.11/site-packages/plantseg/io/tiff.py:114: UserWarning: No metadata found.\n",
      "  warnings.warn(\"No metadata found.\")\n",
      "\n",
      "\u001b[A\n",
      "\u001b[A\n",
      "\u001b[A\n",
      "\u001b[A\n",
      "100%|██████████| 180/180 [00:00<00:00, 403.99it/s]\n"
     ]
    },
    {
     "name": "stdout",
     "output_type": "stream",
     "text": [
      "INFO: P [MainThread] 2025-01-28 01:42:13,063 plantseg.functionals.prediction.prediction - Zoo prediction: Running model from PlantSeg official zoo.\n"
     ]
    },
    {
     "name": "stderr",
     "output_type": "stream",
     "text": [
      "/space/alireza/tseg/.conda/lib/python3.11/site-packages/plantseg/io/tiff.py:114: UserWarning: No metadata found.\n",
      "  warnings.warn(\"No metadata found.\")\n"
     ]
    },
    {
     "name": "stdout",
     "output_type": "stream",
     "text": [
      "INFO: P [MainThread] 2025-01-28 01:42:13,096 plantseg.functionals.prediction.prediction - Computing theoretical minimum halo from model.\n",
      "INFO: P [MainThread] 2025-01-28 01:42:13,096 plantseg.functionals.prediction.prediction - For raw in shape (576, 720): set patch shape (1, 64, 64), set halo shape (0, 44, 44)\n",
      "INFO: P [MainThread] 2025-01-28 01:42:13,103 plantseg.functionals.prediction.utils.array_predictor - Using batch size of 1 for prediction\n"
     ]
    },
    {
     "name": "stderr",
     "output_type": "stream",
     "text": [
      "\n",
      "\u001b[A\n",
      "\u001b[A\n",
      "\u001b[A\n",
      "\u001b[A\n",
      "100%|██████████| 180/180 [00:00<00:00, 402.38it/s]\n",
      "Processing dataset:  99%|█████████▉| 99/100 [07:30<00:02,  2.76s/it]"
     ]
    },
    {
     "name": "stdout",
     "output_type": "stream",
     "text": [
      "INFO: P [MainThread] 2025-01-28 01:42:13,597 plantseg.functionals.prediction.prediction - Zoo prediction: Running model from PlantSeg official zoo.\n"
     ]
    },
    {
     "name": "stderr",
     "output_type": "stream",
     "text": [
      "/space/alireza/tseg/.conda/lib/python3.11/site-packages/plantseg/io/tiff.py:114: UserWarning: No metadata found.\n",
      "  warnings.warn(\"No metadata found.\")\n"
     ]
    },
    {
     "name": "stdout",
     "output_type": "stream",
     "text": [
      "INFO: P [MainThread] 2025-01-28 01:42:13,653 plantseg.functionals.prediction.prediction - Computing theoretical minimum halo from model.\n",
      "INFO: P [MainThread] 2025-01-28 01:42:13,653 plantseg.functionals.prediction.prediction - For raw in shape (576, 720): set patch shape (1, 64, 64), set halo shape (0, 44, 44)\n",
      "INFO: P [MainThread] 2025-01-28 01:42:13,667 plantseg.functionals.prediction.utils.array_predictor - Using batch size of 1 for prediction\n"
     ]
    },
    {
     "name": "stderr",
     "output_type": "stream",
     "text": [
      "\n",
      "\u001b[A\n",
      "\u001b[A\n",
      "\u001b[A\n",
      "\u001b[A\n",
      "\u001b[A\n",
      "\u001b[A\n",
      "\u001b[A\n",
      "100%|██████████| 180/180 [00:00<00:00, 247.25it/s]\n"
     ]
    },
    {
     "name": "stdout",
     "output_type": "stream",
     "text": [
      "INFO: P [MainThread] 2025-01-28 01:42:14,440 plantseg.functionals.prediction.prediction - Zoo prediction: Running model from PlantSeg official zoo.\n"
     ]
    },
    {
     "name": "stderr",
     "output_type": "stream",
     "text": [
      "/space/alireza/tseg/.conda/lib/python3.11/site-packages/plantseg/io/tiff.py:114: UserWarning: No metadata found.\n",
      "  warnings.warn(\"No metadata found.\")\n"
     ]
    },
    {
     "name": "stdout",
     "output_type": "stream",
     "text": [
      "INFO: P [MainThread] 2025-01-28 01:42:14,495 plantseg.functionals.prediction.prediction - Computing theoretical minimum halo from model.\n",
      "INFO: P [MainThread] 2025-01-28 01:42:14,496 plantseg.functionals.prediction.prediction - For raw in shape (576, 720): set patch shape (1, 64, 64), set halo shape (0, 44, 44)\n",
      "INFO: P [MainThread] 2025-01-28 01:42:14,510 plantseg.functionals.prediction.utils.array_predictor - Using batch size of 1 for prediction\n"
     ]
    },
    {
     "name": "stderr",
     "output_type": "stream",
     "text": [
      "\n",
      "\u001b[A\n",
      "\u001b[A\n",
      "\u001b[A\n",
      "\u001b[A\n",
      "\u001b[A\n",
      "\u001b[A\n",
      "\u001b[A\n",
      "100%|██████████| 180/180 [00:00<00:00, 244.97it/s]\n"
     ]
    },
    {
     "name": "stdout",
     "output_type": "stream",
     "text": [
      "INFO: P [MainThread] 2025-01-28 01:42:15,291 plantseg.functionals.prediction.prediction - Zoo prediction: Running model from PlantSeg official zoo.\n",
      "INFO: P [MainThread] 2025-01-28 01:42:15,318 plantseg.functionals.prediction.prediction - Computing theoretical minimum halo from model.\n",
      "INFO: P [MainThread] 2025-01-28 01:42:15,318 plantseg.functionals.prediction.prediction - For raw in shape (576, 720): set patch shape (1, 64, 64), set halo shape (0, 44, 44)\n"
     ]
    },
    {
     "name": "stderr",
     "output_type": "stream",
     "text": [
      "/space/alireza/tseg/.conda/lib/python3.11/site-packages/plantseg/io/tiff.py:114: UserWarning: No metadata found.\n",
      "  warnings.warn(\"No metadata found.\")\n"
     ]
    },
    {
     "name": "stdout",
     "output_type": "stream",
     "text": [
      "INFO: P [MainThread] 2025-01-28 01:42:15,327 plantseg.functionals.prediction.utils.array_predictor - Using batch size of 1 for prediction\n"
     ]
    },
    {
     "name": "stderr",
     "output_type": "stream",
     "text": [
      "\n",
      "\u001b[A\n",
      "\u001b[A\n",
      "\u001b[A\n",
      "\u001b[A\n",
      "100%|██████████| 180/180 [00:00<00:00, 403.19it/s]\n"
     ]
    },
    {
     "name": "stdout",
     "output_type": "stream",
     "text": [
      "INFO: P [MainThread] 2025-01-28 01:42:15,817 plantseg.functionals.prediction.prediction - Zoo prediction: Running model from PlantSeg official zoo.\n"
     ]
    },
    {
     "name": "stderr",
     "output_type": "stream",
     "text": [
      "/space/alireza/tseg/.conda/lib/python3.11/site-packages/plantseg/io/tiff.py:114: UserWarning: No metadata found.\n",
      "  warnings.warn(\"No metadata found.\")\n"
     ]
    },
    {
     "name": "stdout",
     "output_type": "stream",
     "text": [
      "INFO: P [MainThread] 2025-01-28 01:42:15,850 plantseg.functionals.prediction.prediction - Computing theoretical minimum halo from model.\n",
      "INFO: P [MainThread] 2025-01-28 01:42:15,851 plantseg.functionals.prediction.prediction - For raw in shape (576, 720): set patch shape (1, 64, 64), set halo shape (0, 44, 44)\n",
      "INFO: P [MainThread] 2025-01-28 01:42:15,857 plantseg.functionals.prediction.utils.array_predictor - Using batch size of 1 for prediction\n"
     ]
    },
    {
     "name": "stderr",
     "output_type": "stream",
     "text": [
      "\n",
      "\u001b[A\n",
      "\u001b[A\n",
      "\u001b[A\n",
      "\u001b[A\n",
      "100%|██████████| 180/180 [00:00<00:00, 403.58it/s]\n",
      "Processing dataset: 100%|██████████| 100/100 [07:33<00:00,  4.53s/it]\n"
     ]
    }
   ],
   "source": [
    "process_dataset(sampled_df, the_models)"
   ]
  },
  {
   "cell_type": "code",
   "execution_count": null,
   "metadata": {},
   "outputs": [],
   "source": [
    "sampled_df"
   ]
  },
  {
   "cell_type": "code",
   "execution_count": 90,
   "metadata": {},
   "outputs": [],
   "source": [
    "sampled_df.to_csv(\"sample_summary.csv\", index=True)"
   ]
  },
  {
   "cell_type": "code",
   "execution_count": 12,
   "metadata": {},
   "outputs": [],
   "source": [
    "dataset_df.to_csv(\"dataset_summary.csv\", index=False)"
   ]
  },
  {
   "cell_type": "code",
   "execution_count": null,
   "metadata": {},
   "outputs": [],
   "source": [
    "image_path = sampled_df[\"image_path\"][0]\n",
    "image_path"
   ]
  },
  {
   "cell_type": "code",
   "execution_count": null,
   "metadata": {},
   "outputs": [],
   "source": [
    "plantseg_image = import_image_task(input_path=Path(image_path), semantic_type=\"raw\", stack_layout=\"YX\")"
   ]
  },
  {
   "cell_type": "code",
   "execution_count": null,
   "metadata": {},
   "outputs": [],
   "source": [
    "predicted_images = unet_prediction_task(image=plantseg_image, model_name=the_models[0], model_id=None, patch=(1, 64, 64), device=\"cuda\")\n",
    "# Return the first predicted image\n",
    "plt.imshow(predicted_images[0].get_data())"
   ]
  },
  {
   "cell_type": "code",
   "execution_count": null,
   "metadata": {},
   "outputs": [],
   "source": [
    "# Columns representing the models\n",
    "model_columns = cp_models + ps_models\n",
    "\n",
    "# Group by dataset and sequence, then calculate the mean IoU for each model\n",
    "average_iou = (\n",
    "    sampled_df.groupby([\"dataset_name\", \"sequence_name\"])[model_columns]\n",
    "    .mean()\n",
    "    .reset_index()\n",
    ")\n",
    "\n",
    "# Calculate overall average IoU across datasets\n",
    "overall_average_iou = average_iou[model_columns].mean().to_dict()\n",
    "\n",
    "average_iou, overall_average_iou"
   ]
  },
  {
   "cell_type": "code",
   "execution_count": null,
   "metadata": {},
   "outputs": [],
   "source": [
    "overall_average_iou"
   ]
  }
 ],
 "metadata": {
  "kernelspec": {
   "display_name": ".conda",
   "language": "python",
   "name": "python3"
  },
  "language_info": {
   "codemirror_mode": {
    "name": "ipython",
    "version": 3
   },
   "file_extension": ".py",
   "mimetype": "text/x-python",
   "name": "python",
   "nbconvert_exporter": "python",
   "pygments_lexer": "ipython3",
   "version": "3.11.11"
  }
 },
 "nbformat": 4,
 "nbformat_minor": 2
}
